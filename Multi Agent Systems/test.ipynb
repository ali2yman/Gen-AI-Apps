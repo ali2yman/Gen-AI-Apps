{
 "cells": [
  {
   "cell_type": "code",
   "execution_count": null,
   "id": "ed3b4e60",
   "metadata": {
    "vscode": {
     "languageId": "plaintext"
    }
   },
   "outputs": [],
   "source": [
    "# test_ollama.py\n",
    "\n",
    "from config import get_llama_llm\n",
    "\n",
    "def test_ollama_integration():\n",
    "    \"\"\"\n",
    "    Test the Ollama integration with LangChain\n",
    "    \"\"\"\n",
    "    print(\"Testing Ollama integration with Llama 3.2-1b...\")\n",
    "\n",
    "    # Get the LLM\n",
    "    llm = get_llama_llm()\n",
    "\n",
    "    # Test with a simple prompt\n",
    "    prompt = \"Explain what agentic AI is in 3 sentences.\"\n",
    "    print(f\"\\nPrompt: {prompt}\")\n",
    "    print(\"\\nGenerating response...\")\n",
    "\n",
    "    # Generate response\n",
    "    response = llm.invoke(prompt)\n",
    "\n",
    "    print(f\"\\nResponse: {response}\")\n",
    "    return response\n",
    "\n",
    "if __name__ == \"__main__\":\n",
    "    test_ollama_integration()"
   ]
  }
 ],
 "metadata": {
  "language_info": {
   "name": "python"
  }
 },
 "nbformat": 4,
 "nbformat_minor": 5
}
