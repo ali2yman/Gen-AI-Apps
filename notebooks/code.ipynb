{
 "cells": [
  {
   "cell_type": "markdown",
   "id": "dcb3cde7",
   "metadata": {},
   "source": [
    "<B>Load the llama3 token from .env</B>"
   ]
  },
  {
   "cell_type": "code",
   "execution_count": 2,
   "id": "11eed9f6",
   "metadata": {},
   "outputs": [],
   "source": [
    "import os\n",
    "from dotenv import load_dotenv\n",
    "\n",
    "load_dotenv()\n",
    "api_token = os.getenv(\"LLAMA_API_TOKEN\")"
   ]
  },
  {
   "cell_type": "code",
   "execution_count": null,
   "id": "366cf82f",
   "metadata": {},
   "outputs": [],
   "source": []
  }
 ],
 "metadata": {
  "kernelspec": {
   "display_name": "env",
   "language": "python",
   "name": "python3"
  },
  "language_info": {
   "codemirror_mode": {
    "name": "ipython",
    "version": 3
   },
   "file_extension": ".py",
   "mimetype": "text/x-python",
   "name": "python",
   "nbconvert_exporter": "python",
   "pygments_lexer": "ipython3",
   "version": "3.9.0"
  }
 },
 "nbformat": 4,
 "nbformat_minor": 5
}
