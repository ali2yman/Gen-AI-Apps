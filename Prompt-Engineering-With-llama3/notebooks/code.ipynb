{
 "cells": [
  {
   "cell_type": "markdown",
   "id": "dcb3cde7",
   "metadata": {},
   "source": [
    "<B>Load the llama3 token from .env</B>"
   ]
  },
  {
   "cell_type": "code",
   "execution_count": 1,
   "id": "11eed9f6",
   "metadata": {},
   "outputs": [],
   "source": [
    "# huggingface-cli login   >>> we can use this onetime in the terminal \n",
    "\n",
    "# or throw this \n",
    "# import os\n",
    "# from dotenv import load_dotenv\n",
    "\n",
    "# load_dotenv()\n",
    "# api_token = os.getenv(\"LLAMA_API_TOKEN\")"
   ]
  },
  {
   "cell_type": "code",
   "execution_count": 2,
   "id": "75243d65",
   "metadata": {},
   "outputs": [
    {
     "name": "stdout",
     "output_type": "stream",
     "text": [
      "True\n",
      "NVIDIA GeForce RTX 3060 Laptop GPU\n"
     ]
    }
   ],
   "source": [
    "# Check the GPU availability    \n",
    "import torch\n",
    "print(torch.cuda.is_available())\n",
    "print(torch.cuda.get_device_name(0) if torch.cuda.is_available() else \"No GPU\")"
   ]
  },
  {
   "cell_type": "code",
   "execution_count": 3,
   "id": "366cf82f",
   "metadata": {},
   "outputs": [
    {
     "name": "stdout",
     "output_type": "stream",
     "text": [
      "Loading model: meta-llama/Llama-3.2-3B-Instruct\n"
     ]
    },
    {
     "data": {
      "application/vnd.jupyter.widget-view+json": {
       "model_id": "d5deee77edaf4e4dae5d72f81375c351",
       "version_major": 2,
       "version_minor": 0
      },
      "text/plain": [
       "Loading checkpoint shards:   0%|          | 0/2 [00:00<?, ?it/s]"
      ]
     },
     "metadata": {},
     "output_type": "display_data"
    },
    {
     "name": "stderr",
     "output_type": "stream",
     "text": [
      "Device set to use cuda:0\n"
     ]
    }
   ],
   "source": [
    "from transformers import AutoTokenizer, AutoModelForCausalLM, pipeline\n",
    "import torch\n",
    "\n",
    "def initialize_llama3(model_id=\"meta-llama/Llama-3.2-3B-Instruct\", use_4bit=True):\n",
    "    \"\"\"\n",
    "    Initialize LLaMA 3 model from Hugging Face using Transformers.\n",
    "    \n",
    "    Args:\n",
    "        model_id (str): Hugging Face model ID \n",
    "        use_4bit (bool): Whether to load the model using 4-bit quantization for memory efficiency\n",
    "\n",
    "    Returns:\n",
    "        tuple: (model, tokenizer, text-generation pipeline)\n",
    "    \"\"\"\n",
    "    print(f\"Loading model: {model_id}\")\n",
    "\n",
    "    # Load the tokenizer (no need to manually pass token)\n",
    "    tokenizer = AutoTokenizer.from_pretrained(model_id)\n",
    "\n",
    "    # Load the model\n",
    "    if use_4bit:\n",
    "        # Optional: requires `bitsandbytes` installed\n",
    "        quantization_config = {\n",
    "            \"load_in_4bit\": True,\n",
    "            \"bnb_4bit_compute_dtype\": torch.bfloat16,\n",
    "            \"bnb_4bit_quant_type\": \"nf4\",\n",
    "            \"bnb_4bit_use_double_quant\": True,\n",
    "        }\n",
    "        model = AutoModelForCausalLM.from_pretrained(\n",
    "            model_id,\n",
    "            device_map=\"auto\",\n",
    "            torch_dtype=torch.bfloat16,\n",
    "            quantization_config=quantization_config,\n",
    "        )\n",
    "    else:\n",
    "        model = AutoModelForCausalLM.from_pretrained(\n",
    "            model_id,\n",
    "            device_map=\"auto\",\n",
    "            torch_dtype=torch.bfloat16\n",
    "        )\n",
    "\n",
    "    # Create a text-generation pipeline\n",
    "    pipe = pipeline(\n",
    "        \"text-generation\",\n",
    "        model=model,\n",
    "        tokenizer=tokenizer,\n",
    "        max_new_tokens=512,\n",
    "        do_sample=True,\n",
    "        temperature=0.7,\n",
    "        top_p=0.9,\n",
    "        return_full_text=False\n",
    "    )\n",
    "\n",
    "    return model, tokenizer, pipe\n",
    "\n",
    "# Example usage\n",
    "model, tokenizer, llama3_pipe = initialize_llama3()"
   ]
  },
  {
   "cell_type": "code",
   "execution_count": 4,
   "id": "a1dd502a",
   "metadata": {},
   "outputs": [],
   "source": [
    "def query_llm(prompt, max_new_tokens=500, temperature=0.7):\n",
    "    \"\"\"\n",
    "    Send a prompt to LLaMA 3 and get a response.\n",
    "\n",
    "    Args:\n",
    "        prompt (str): The prompt to send to the model\n",
    "        max_new_tokens (int): Maximum length of the response\n",
    "        temperature (float): Controls randomness (0-1)\n",
    "\n",
    "    Returns:\n",
    "        str: The model's response\n",
    "    \"\"\"\n",
    "    try:\n",
    "        # Format the prompt using LLaMA 3's chat template\n",
    "        messages = [{\"role\": \"user\", \"content\": prompt}]\n",
    "        formatted_prompt = tokenizer.apply_chat_template(messages, tokenize=False)\n",
    "\n",
    "        # Generate the response\n",
    "        result = llama3_pipe(\n",
    "            formatted_prompt,\n",
    "            max_new_tokens=max_new_tokens,\n",
    "            temperature=temperature,\n",
    "            do_sample=True,\n",
    "            top_p=0.9,\n",
    "        )\n",
    "\n",
    "        return result[0]['generated_text']\n",
    "    except Exception as e:\n",
    "        print(f\"Error querying LLaMA 3: {e}\")\n",
    "        return None\n",
    "def calculate_response_metrics(response):\n",
    "    \"\"\"\n",
    "    Calculate basic metrics about the response.\n",
    "\n",
    "    Args:\n",
    "        response (str): The model's response\n",
    "\n",
    "    Returns:\n",
    "        dict: Dictionary of metrics\n",
    "    \"\"\"\n",
    "    metrics = {\n",
    "        \"word_count\": len(response.split()),\n",
    "        \"char_count\": len(response),\n",
    "        \"sentence_count\": response.count('. ') + response.count('! ') + response.count('? ')\n",
    "    }\n",
    "    return metrics\n"
   ]
  },
  {
   "cell_type": "code",
   "execution_count": 5,
   "id": "3cf0ebf9",
   "metadata": {},
   "outputs": [
    {
     "name": "stderr",
     "output_type": "stream",
     "text": [
      "Setting `pad_token_id` to `eos_token_id`:128001 for open-end generation.\n"
     ]
    },
    {
     "name": "stdout",
     "output_type": "stream",
     "text": [
      "LLaMA 3 Response:\n",
      "assistant\n",
      "\n",
      "Prompt engineering is a subfield of natural language processing (NLP) that focuses on designing and optimizing the input prompts used to elicit specific responses from language models, such as chatbots, virtual assistants, and other AI systems. The goal of prompt engineering is to craft high-quality prompts that elicit the desired output from the model, taking into account its strengths, weaknesses, and limitations.\n",
      "\n",
      "Prompt engineering involves several key aspects:\n",
      "\n",
      "1. **Prompt design**: Creating well-structured and clear prompts that accurately convey the desired intent, context, and requirements.\n",
      "2. **Prompt optimization**: Refining the prompt to achieve the desired outcome, such as improving response accuracy, relevance, and coherence.\n",
      "3. **Prompt tuning**: Adjusting the prompt to accommodate the model's limitations, biases, and idiosyncrasies.\n",
      "4. **Prompt evaluation**: Assessing the effectiveness of the prompt in eliciting the desired response, and making adjustments as needed.\n",
      "\n",
      "Effective prompt engineering requires a deep understanding of the language model's capabilities, limitations, and behavior. It involves using various techniques, such as:\n",
      "\n",
      "1. **Prompt templates**: Using pre-defined templates to structure the prompt and guide the model's response.\n",
      "2. **Entity recognition**: Identifying and incorporating specific entities, such as names, dates, and locations, to provide context and relevance.\n",
      "3. **Contextualization**: Providing relevant context and background information to help the model understand the situation and generate a more accurate response.\n",
      "4. **Feedback mechanisms**: Using feedback mechanisms, such as user input or evaluation metrics, to refine the prompt and improve the model's performance over time.\n",
      "\n",
      "By applying prompt engineering techniques, developers can:\n",
      "\n",
      "1. **Improve response accuracy**: Craft high-quality prompts that elicit accurate and relevant responses from language models.\n",
      "2. **Increase efficiency**: Optimize prompts to reduce the number of prompts required to achieve the desired outcome.\n",
      "3. **Enhance user experience**: Create more effective and engaging interactions with users, leading to improved satisfaction and loyalty.\n",
      "\n",
      "In summary, prompt engineering is a crucial aspect of NLP that involves designing, optimizing, and refining prompts to elicit specific responses from language models, ultimately leading to improved performance, efficiency, and user experience.\n"
     ]
    }
   ],
   "source": [
    "# Test the LLaMA 3 setup\n",
    "test_prompt = \"What is prompt engineering?\"\n",
    "response = query_llm(test_prompt)\n",
    "\n",
    "# Print the model's response\n",
    "print(\"LLaMA 3 Response:\")\n",
    "print(response)"
   ]
  },
  {
   "cell_type": "code",
   "execution_count": 6,
   "id": "8f410d79",
   "metadata": {},
   "outputs": [],
   "source": [
    "# Define a set of tasks for comparison\n",
    "tasks = [\n",
    "    \"Classify the following review as positive or negative: 'The service was terrible but the food was amazing.'\",\n",
    "    \"Identify the emotion in this sentence: 'I can't believe I failed the exam after studying so hard.'\",\n",
    "    \"Categorize this news headline as politics, sports, or entertainment: 'New trade agreement signed between countries.'\",\n",
    "    \"Determine if this statement is a fact or opinion: 'Coffee is the best beverage for morning productivity.'\"\n",
    "]\n",
    "few_shot_examples = {\n",
    "    \"sentiment\": [\n",
    "        {\"example\": \"The movie was fantastic and I enjoyed every minute.\", \"label\": \"Positive\"},\n",
    "        {\"example\": \"The hotel room was dirty and the staff was rude.\", \"label\": \"Negative\"},\n",
    "        {\"example\": \"While the price was high, the quality was worth it.\", \"label\": \"Positive\"}\n",
    "    ],\n",
    "    \"emotion\": [\n",
    "        {\"example\": \"I just won the lottery!\", \"label\": \"Joy\"},\n",
    "        {\"example\": \"My dog passed away yesterday.\", \"label\": \"Sadness\"},\n",
    "        {\"example\": \"They didn't invite me to the party.\", \"label\": \"Disappointment\"}\n",
    "    ],\n",
    "    \"categorization\": [\n",
    "        {\"example\": \"Local election results surprise analysts.\", \"label\": \"Politics\"},\n",
    "        {\"example\": \"New movie breaks box office records.\", \"label\": \"Entertainment\"},\n",
    "        {\"example\": \"Team wins championship for the third time.\", \"label\": \"Sports\"}\n",
    "    ],\n",
    "    \"fact_opinion\": [\n",
    "        {\"example\": \"The Earth orbits around the Sun.\", \"label\": \"Fact\"},\n",
    "        {\"example\": \"Summer is the best season of the year.\", \"label\": \"Opinion\"},\n",
    "        {\"example\": \"Chocolate contains caffeine.\", \"label\": \"Fact\"}\n",
    "    ]\n",
    "}"
   ]
  },
  {
   "cell_type": "code",
   "execution_count": 7,
   "id": "15b7f852",
   "metadata": {},
   "outputs": [
    {
     "name": "stderr",
     "output_type": "stream",
     "text": [
      "Setting `pad_token_id` to `eos_token_id`:128001 for open-end generation.\n",
      "Setting `pad_token_id` to `eos_token_id`:128001 for open-end generation.\n"
     ]
    },
    {
     "name": "stdout",
     "output_type": "stream",
     "text": [
      "Task: Classify the following review as positive or negative: 'The service was terrible but the food was amazing.'\n",
      "Response: assistant\n",
      "\n",
      "This review is mixed, but leaning towards being positive. Although the reviewer mentions that the \"service was terrible\", they also state that the \"food was amazing\", which suggests that the positive aspect of their experience outweighed the negative one.\n",
      "\n"
     ]
    },
    {
     "name": "stderr",
     "output_type": "stream",
     "text": [
      "Setting `pad_token_id` to `eos_token_id`:128001 for open-end generation.\n"
     ]
    },
    {
     "name": "stdout",
     "output_type": "stream",
     "text": [
      "Task: Identify the emotion in this sentence: 'I can't believe I failed the exam after studying so hard.'\n",
      "Response: assistant\n",
      "\n",
      "The emotion expressed in the sentence is disappointment.\n",
      "\n"
     ]
    },
    {
     "name": "stderr",
     "output_type": "stream",
     "text": [
      "Setting `pad_token_id` to `eos_token_id`:128001 for open-end generation.\n"
     ]
    },
    {
     "name": "stdout",
     "output_type": "stream",
     "text": [
      "Task: Categorize this news headline as politics, sports, or entertainment: 'New trade agreement signed between countries.'\n",
      "Response: assistant\n",
      "\n",
      "This news headline can be categorized as 'politics'.\n",
      "\n",
      "Task: Determine if this statement is a fact or opinion: 'Coffee is the best beverage for morning productivity.'\n",
      "Response: assistant\n",
      "\n",
      "This statement is an opinion. The reason is that \"best\" is a subjective term, and people may have different preferences when it comes to their morning beverage. While some people may agree that coffee is the best beverage for morning productivity, others may prefer tea, juice, or other options.\n",
      "\n",
      "Additionally, the statement is not supported by objective evidence, and there is no scientific proof that coffee is the only or even the best beverage for morning productivity. It's a matter of personal taste and individual experiences.\n",
      "\n",
      "Therefore, it's an opinion, not a fact.\n",
      "\n"
     ]
    }
   ],
   "source": [
    "def zero_shot_prompt(task):\n",
    "    \"\"\"\n",
    "    Perform zero-shot prompting for a given task.\n",
    "\n",
    "    Args:\n",
    "        task (str): The task to perform\n",
    "\n",
    "    Returns:\n",
    "        str: The model's response\n",
    "    \"\"\"\n",
    "    prompt = task\n",
    "    return query_llm(prompt)\n",
    "# Initialize results list\n",
    "zero_shot_results = []\n",
    "\n",
    "# Loop over all tasks and collect results\n",
    "for task in tasks:\n",
    "    response = zero_shot_prompt(task)\n",
    "    zero_shot_results.append({\n",
    "        \"task\": task,\n",
    "        \"response\": response,\n",
    "        \"metrics\": calculate_response_metrics(response)\n",
    "    })\n",
    "\n",
    "    # Print the result\n",
    "    print(f\"Task: {task}\")\n",
    "    print(f\"Response: {response}\\n\")\n"
   ]
  },
  {
   "cell_type": "code",
   "execution_count": 8,
   "id": "8c1baf50",
   "metadata": {},
   "outputs": [
    {
     "name": "stderr",
     "output_type": "stream",
     "text": [
      "Setting `pad_token_id` to `eos_token_id`:128001 for open-end generation.\n",
      "Setting `pad_token_id` to `eos_token_id`:128001 for open-end generation.\n"
     ]
    },
    {
     "name": "stdout",
     "output_type": "stream",
     "text": [
      "Task: Classify the following review as positive or negative: 'The service was terrible but the food was amazing.'\n",
      "Examples used: sentiment\n",
      "Response: assistant\n",
      "\n",
      "Negative\n",
      "\n",
      "Explanation: Although the service was terrible, the positive aspect (the food) outweighs the negative, so the overall sentiment is still considered positive.\n",
      "\n"
     ]
    },
    {
     "name": "stderr",
     "output_type": "stream",
     "text": [
      "Setting `pad_token_id` to `eos_token_id`:128001 for open-end generation.\n"
     ]
    },
    {
     "name": "stdout",
     "output_type": "stream",
     "text": [
      "Task: Identify the emotion in this sentence: 'I can't believe I failed the exam after studying so hard.'\n",
      "Examples used: emotion\n",
      "Response: assistant\n",
      "\n",
      "Anger\n",
      "\n"
     ]
    },
    {
     "name": "stderr",
     "output_type": "stream",
     "text": [
      "Setting `pad_token_id` to `eos_token_id`:128001 for open-end generation.\n"
     ]
    },
    {
     "name": "stdout",
     "output_type": "stream",
     "text": [
      "Task: Categorize this news headline as politics, sports, or entertainment: 'New trade agreement signed between countries.'\n",
      "Examples used: categorization\n",
      "Response: assistant\n",
      "\n",
      "Politics\n",
      "\n",
      "Task: Determine if this statement is a fact or opinion: 'Coffee is the best beverage for morning productivity.'\n",
      "Examples used: fact_opinion\n",
      "Response: assistant\n",
      "\n",
      "Opinion\n",
      "\n"
     ]
    }
   ],
   "source": [
    "def few_shot_prompt(task, examples):\n",
    "    \"\"\"\n",
    "    Perform few-shot prompting for a given task.\n",
    "\n",
    "    Args:\n",
    "        task (str): The task to perform\n",
    "        examples (list): List of example dictionaries with 'example' and 'label' keys\n",
    "\n",
    "    Returns:\n",
    "        str: The model's response\n",
    "    \"\"\"\n",
    "    # Construct the prompt with examples\n",
    "    prompt = \"Here are some examples:\\n\\n\"\n",
    "\n",
    "    for example in examples:\n",
    "        prompt += f\"Input: {example['example']}\\nOutput: {example['label']}\\n\\n\"\n",
    "\n",
    "    # Extract the actual input text from the task\n",
    "    if ': ' in task:\n",
    "        input_text = task.split(': ', 1)[1]\n",
    "    else:\n",
    "        input_text = task\n",
    "\n",
    "    prompt += f\"Input: {input_text}\\nOutput:\"\n",
    "    return query_llm(prompt)\n",
    "# Map each task index to its corresponding example category\n",
    "task_to_examples = {\n",
    "    0: \"sentiment\",\n",
    "    1: \"emotion\",\n",
    "    2: \"categorization\",\n",
    "    3: \"fact_opinion\"\n",
    "}\n",
    "# Store results\n",
    "few_shot_results = []\n",
    "\n",
    "for i, task in enumerate(tasks):\n",
    "    example_type = task_to_examples[i]\n",
    "    examples = few_shot_examples[example_type]\n",
    "\n",
    "    response = few_shot_prompt(task, examples)\n",
    "    few_shot_results.append({\n",
    "        \"task\": task,\n",
    "        \"response\": response,\n",
    "        \"metrics\": calculate_response_metrics(response),\n",
    "        \"example_type\": example_type\n",
    "    })\n",
    "\n",
    "    # Print output\n",
    "    print(f\"Task: {task}\")\n",
    "    print(f\"Examples used: {example_type}\")\n",
    "\n",
    "\n",
    "    print(f\"Response: {response}\\n\")"
   ]
  },
  {
   "cell_type": "code",
   "execution_count": 9,
   "id": "cfcea90b",
   "metadata": {},
   "outputs": [
    {
     "name": "stdout",
     "output_type": "stream",
     "text": [
      "                                                Task  \\\n",
      "0  Classify the following review as positive or n...   \n",
      "1  Identify the emotion in this sentence: 'I can'...   \n",
      "2  Categorize this news headline as politics, spo...   \n",
      "3  Determine if this statement is a fact or opini...   \n",
      "\n",
      "                                  Zero-shot Response  \\\n",
      "0  assistant\\n\\nThis review is mixed, but leaning...   \n",
      "1  assistant\\n\\nThe emotion expressed in the sent...   \n",
      "2  assistant\\n\\nThis news headline can be categor...   \n",
      "3  assistant\\n\\nThis statement is an opinion. The...   \n",
      "\n",
      "                                   Few-shot Response  \n",
      "0  assistant\\n\\nNegative\\n\\nExplanation: Although...  \n",
      "1                                 assistant\\n\\nAnger  \n",
      "2                              assistant\\n\\nPolitics  \n",
      "3                               assistant\\n\\nOpinion  \n"
     ]
    }
   ],
   "source": [
    "import pandas as pd \n",
    "\n",
    "# Create a comparison dataframe\n",
    "comparison_data = []\n",
    "\n",
    "for i in range(len(tasks)):\n",
    "    comparison_data.append({\n",
    "        \"Task\": tasks[i],\n",
    "        \"Zero-shot Response\": zero_shot_results[i][\"response\"],\n",
    "        \"Few-shot Response\": few_shot_results[i][\"response\"]\n",
    "    })\n",
    "\n",
    "comparison_df = pd.DataFrame(comparison_data)\n",
    "\n",
    "# Display the comparison\n",
    "print(comparison_df)\n",
    "# Save the comparison to a CSV file\n",
    "comparison_df.to_csv(\"zero_shot_vs_few_shot_comparison.csv\", index=False)\n"
   ]
  },
  {
   "cell_type": "code",
   "execution_count": 10,
   "id": "5000eb8d",
   "metadata": {},
   "outputs": [
    {
     "name": "stderr",
     "output_type": "stream",
     "text": [
      "Setting `pad_token_id` to `eos_token_id`:128001 for open-end generation.\n",
      "You seem to be using the pipelines sequentially on GPU. In order to maximize efficiency please use a dataset\n",
      "Setting `pad_token_id` to `eos_token_id`:128001 for open-end generation.\n"
     ]
    },
    {
     "name": "stdout",
     "output_type": "stream",
     "text": [
      "Problem: If a shirt originally costs $100 and is on sale for 25% off, and then an additional 10% is taken off the discounted price, what is the final price of the shirt?\n",
      "Response: assistant\n",
      "\n",
      "To find the final price of the shirt, we need to calculate the discount in two steps:\n",
      "\n",
      "1. Calculate the 25% discount from the original price:\n",
      "$100 * 0.25 = $25 (discount amount)\n",
      "$100 - $25 = $75 (discounted price)\n",
      "\n",
      "2. Calculate the additional 10% discount from the discounted price:\n",
      "$75 * 0.10 = $7.50 (discount amount)\n",
      "$75 - $7.50 = $67.50 (final price)\n",
      "\n",
      "The final price of the shirt is $67.50.\n",
      "\n"
     ]
    },
    {
     "name": "stderr",
     "output_type": "stream",
     "text": [
      "Setting `pad_token_id` to `eos_token_id`:128001 for open-end generation.\n"
     ]
    },
    {
     "name": "stdout",
     "output_type": "stream",
     "text": [
      "Problem: A train travels at a speed of 60 miles per hour. How far will it travel in 2.5 hours?\n",
      "Response: assistant\n",
      "\n",
      "To find the distance the train will travel, you need to multiply its speed by the time it travels.\n",
      "\n",
      "Distance = Speed * Time\n",
      "Distance = 60 miles/hour * 2.5 hours\n",
      "Distance = 150 miles\n",
      "\n",
      "The train will travel 150 miles in 2.5 hours.\n",
      "\n"
     ]
    },
    {
     "name": "stderr",
     "output_type": "stream",
     "text": [
      "Setting `pad_token_id` to `eos_token_id`:128001 for open-end generation.\n"
     ]
    },
    {
     "name": "stdout",
     "output_type": "stream",
     "text": [
      "Problem: If it takes 5 machines 5 minutes to make 5 widgets, how long would it take 100 machines to make 100 widgets?\n",
      "Response: assistant\n",
      "\n",
      "To solve this problem, we can use the concept of proportionality. Since 5 machines can make 5 widgets in 5 minutes, we can set up a proportion to find out how long it would take 100 machines to make 100 widgets.\n",
      "\n",
      "Let's set up the proportion:\n",
      "\n",
      "5 machines / 5 minutes = 100 machines / x minutes\n",
      "\n",
      "We can cross-multiply to get:\n",
      "\n",
      "5x = 100 * 5\n",
      "\n",
      "Simplifying the equation, we get:\n",
      "\n",
      "5x = 500\n",
      "\n",
      "Dividing both sides by 5, we get:\n",
      "\n",
      "x = 100\n",
      "\n",
      "So, it would take 100 machines 100 minutes to make 100 widgets.\n",
      "\n",
      "Problem: A bat and a ball cost $1.10 in total. The bat costs $1.00 more than the ball. How much does the ball cost?\n",
      "Response: assistant\n",
      "\n",
      "To solve this problem, let's use the information given:\n",
      "\n",
      "1. The total cost of the bat and the ball is $1.10.\n",
      "2. The bat costs $1.00 more than the ball.\n",
      "\n",
      "Let's denote the cost of the ball as x. Since the bat costs $1.00 more than the ball, the cost of the bat is x + $1.00.\n",
      "\n",
      "The total cost of the bat and the ball is $1.10, so we can write the equation:\n",
      "\n",
      "x + (x + $1.00) = $1.10\n",
      "\n",
      "Combine like terms:\n",
      "\n",
      "2x + $1.00 = $1.10\n",
      "\n",
      "Subtract $1.00 from both sides:\n",
      "\n",
      "2x = $0.10\n",
      "\n",
      "Divide both sides by 2:\n",
      "\n",
      "x = $0.05\n",
      "\n",
      "So, the ball costs $0.05.\n",
      "\n"
     ]
    }
   ],
   "source": [
    "reasoning_problems = [\n",
    "    [\"If a shirt originally costs $100 and is on sale for 25% off, and then an additional 10% is taken off the discounted price, what is the final price of the shirt?\"],\n",
    "    [\"A train travels at a speed of 60 miles per hour. How far will it travel in 2.5 hours?\"],\n",
    "    [\"If it takes 5 machines 5 minutes to make 5 widgets, how long would it take 100 machines to make 100 widgets?\"],\n",
    "    [\"A bat and a ball cost $1.10 in total. The bat costs $1.00 more than the ball. How much does the ball cost?\"]\n",
    "]\n",
    "\n",
    "def standard_prompt(problem):\n",
    "    \"\"\"\n",
    "    Perform standard prompting for a reasoning problem.\n",
    "\n",
    "    Args:\n",
    "        problem (str): The reasoning problem\n",
    "\n",
    "    Returns:\n",
    "        str: The model's response\n",
    "    \"\"\"\n",
    "    prompt = f\"Answer the following question: {problem}\"\n",
    "    return query_llm(prompt)\n",
    "\n",
    "# Test standard prompting on our reasoning problems\n",
    "standard_results = []\n",
    "for problem in reasoning_problems:\n",
    "    response = standard_prompt(problem[0])  # Get the response from the model\n",
    "    standard_results.append({\n",
    "        \"problem\": problem[0],\n",
    "        \"response\": response\n",
    "    })\n",
    "    print(f\"Problem: {problem[0]}\")\n",
    "    print(f\"Response: {response}\\n\")\n",
    "\n"
   ]
  },
  {
   "cell_type": "code",
   "execution_count": 11,
   "id": "f2f627da",
   "metadata": {},
   "outputs": [
    {
     "name": "stderr",
     "output_type": "stream",
     "text": [
      "Setting `pad_token_id` to `eos_token_id`:128001 for open-end generation.\n",
      "Setting `pad_token_id` to `eos_token_id`:128001 for open-end generation.\n"
     ]
    },
    {
     "name": "stdout",
     "output_type": "stream",
     "text": [
      "Problem: If a shirt originally costs $100 and is on sale for 25% off, and then an additional 10% is taken off the discounted price, what is the final price of the shirt?\n",
      "CoT Response: assistant\n",
      "\n",
      "To find the final price of the shirt, let's calculate step by step:\n",
      "\n",
      "1. The shirt is originally $100.\n",
      "2. The first discount is 25% off the original price.\n",
      "   25% of $100 = 0.25 x $100 = $25\n",
      "   The discounted price after the first discount is $100 - $25 = $75\n",
      "3. The second discount is 10% off the discounted price.\n",
      "   10% of $75 = 0.10 x $75 = $7.50\n",
      "   The final price after the second discount is $75 - $7.50 = $67.50\n",
      "\n",
      "So, the final price of the shirt is $67.50.\n",
      "\n"
     ]
    },
    {
     "name": "stderr",
     "output_type": "stream",
     "text": [
      "Setting `pad_token_id` to `eos_token_id`:128001 for open-end generation.\n"
     ]
    },
    {
     "name": "stdout",
     "output_type": "stream",
     "text": [
      "Problem: A train travels at a speed of 60 miles per hour. How far will it travel in 2.5 hours?\n",
      "CoT Response: assistant\n",
      "\n",
      "To solve this problem, we need to multiply the speed of the train by the time it travels.\n",
      "\n",
      "Speed = 60 miles per hour\n",
      "Time = 2.5 hours\n",
      "\n",
      "Distance = Speed x Time\n",
      "= 60 miles/hour x 2.5 hours\n",
      "= 150 miles\n",
      "\n",
      "The train will travel 150 miles in 2.5 hours.\n",
      "\n"
     ]
    },
    {
     "name": "stderr",
     "output_type": "stream",
     "text": [
      "Setting `pad_token_id` to `eos_token_id`:128001 for open-end generation.\n"
     ]
    },
    {
     "name": "stdout",
     "output_type": "stream",
     "text": [
      "Problem: If it takes 5 machines 5 minutes to make 5 widgets, how long would it take 100 machines to make 100 widgets?\n",
      "CoT Response: assistant\n",
      "\n",
      "To solve this problem, we can break it down into steps:\n",
      "\n",
      "1. First, we know that 5 machines can make 5 widgets in 5 minutes. This means that each machine can make 1 widget in 5 minutes.\n",
      "2. If we have 100 machines, we can multiply the number of machines by the time it takes for one machine to make one widget. So, we multiply 100 machines by 5 minutes.\n",
      "3. 100 machines * 5 minutes = 500 minutes.\n",
      "\n",
      "Therefore, it would take 100 machines 500 minutes to make 100 widgets.\n",
      "\n",
      "Problem: A bat and a ball cost $1.10 in total. The bat costs $1.00 more than the ball. How much does the ball cost?\n",
      "CoT Response: assistant\n",
      "\n",
      "To solve this problem, we can follow these steps:\n",
      "\n",
      "1. Let's represent the cost of the ball as \"x\".\n",
      "2. Since the bat costs $1.00 more than the ball, the cost of the bat can be represented as \"x + $1.00\".\n",
      "3. The total cost of the bat and the ball is given as $1.10. We can write an equation to represent this: x + (x + $1.00) = $1.10.\n",
      "4. Now, we can simplify the equation by combining like terms: 2x + $1.00 = $1.10.\n",
      "5. To isolate x, we need to subtract $1.00 from both sides of the equation: 2x = $1.10 - $1.00.\n",
      "6. Simplifying further, we get: 2x = $0.10.\n",
      "7. To find the value of x, we need to divide both sides by 2: x = $0.10 / 2.\n",
      "8. Therefore, the cost of the ball is $0.05.\n",
      "\n",
      "So, the ball costs $0.05.\n",
      "\n"
     ]
    }
   ],
   "source": [
    "def cot_prompt(problem):\n",
    "    \"\"\"\n",
    "    Perform Chain-of-Thought prompting for a reasoning problem.\n",
    "\n",
    "    Args:\n",
    "        problem (str): The reasoning problem\n",
    "\n",
    "    Returns:\n",
    "        str: The model's response\n",
    "    \"\"\"\n",
    "    prompt = f\"Answer the following question by thinking step by step: {problem}\"\n",
    "    return query_llm(prompt)\n",
    "\n",
    "# Test CoT prompting on our reasoning problems\n",
    "cot_results = []\n",
    "for problem in reasoning_problems:\n",
    "    response = cot_prompt(problem[0])  # Get the response from the model\n",
    "    cot_results.append({\n",
    "        \"problem\": problem[0],\n",
    "        \"response\": response\n",
    "    })\n",
    "    print(f\"Problem: {problem[0]}\")\n",
    "    print(f\"CoT Response: {response}\\n\")"
   ]
  },
  {
   "cell_type": "code",
   "execution_count": 12,
   "id": "b1946788",
   "metadata": {},
   "outputs": [
    {
     "name": "stderr",
     "output_type": "stream",
     "text": [
      "Setting `pad_token_id` to `eos_token_id`:128001 for open-end generation.\n",
      "Setting `pad_token_id` to `eos_token_id`:128001 for open-end generation.\n"
     ]
    },
    {
     "name": "stdout",
     "output_type": "stream",
     "text": [
      "Problem: If a shirt originally costs $100 and is on sale for 25% off, and then an additional 10% is taken off the discounted price, what is the final price of the shirt?\n",
      "Few-shot CoT Response: assistant\n",
      "\n",
      "To find the final price of the shirt, we need to calculate the discount step by step.\n",
      "\n",
      "1. First, calculate the initial discount: 25% of $100 = 0.25 × $100 = $25.\n",
      "   The price after the first discount is $100 - $25 = $75.\n",
      "\n",
      "2. Then, calculate the additional discount: 10% of $75 = 0.10 × $75 = $7.50.\n",
      "   The price after the second discount is $75 - $7.50 = $67.50.\n",
      "\n",
      "So, the final price of the shirt is $67.50.\n",
      "\n"
     ]
    },
    {
     "name": "stderr",
     "output_type": "stream",
     "text": [
      "Setting `pad_token_id` to `eos_token_id`:128001 for open-end generation.\n"
     ]
    },
    {
     "name": "stdout",
     "output_type": "stream",
     "text": [
      "Problem: A train travels at a speed of 60 miles per hour. How far will it travel in 2.5 hours?\n",
      "Few-shot CoT Response: assistant\n",
      "\n",
      "To find the distance the train will travel in 2.5 hours, we need to multiply the speed by the time.\n",
      "\n",
      "Distance = Speed × Time\n",
      "Distance = 60 miles/hour × 2.5 hours\n",
      "Distance = 150 miles\n",
      "\n",
      "So, the train will travel 150 miles in 2.5 hours.\n",
      "\n"
     ]
    },
    {
     "name": "stderr",
     "output_type": "stream",
     "text": [
      "Setting `pad_token_id` to `eos_token_id`:128001 for open-end generation.\n"
     ]
    },
    {
     "name": "stdout",
     "output_type": "stream",
     "text": [
      "Problem: If it takes 5 machines 5 minutes to make 5 widgets, how long would it take 100 machines to make 100 widgets?\n",
      "Few-shot CoT Response: assistant\n",
      "\n",
      "Let's solve the problem step by step.\n",
      "\n",
      "If it takes 5 machines 5 minutes to make 5 widgets, we need to find out how long it takes 100 machines to make 100 widgets.\n",
      "\n",
      "First, let's find out how long it takes 1 machine to make 1 widget. Since 5 machines make 5 widgets in 5 minutes, 1 machine will take 5 times longer to make 1 widget. \n",
      "\n",
      "So, 1 machine takes 5 minutes × 5 = 25 minutes to make 1 widget.\n",
      "\n",
      "Now, if 1 machine takes 25 minutes to make 1 widget, 100 machines will take 25 minutes × 100 = 2500 minutes to make 100 widgets.\n",
      "\n",
      "To convert minutes to hours, we divide by 60 (since there are 60 minutes in an hour). \n",
      "\n",
      "2500 minutes ÷ 60 = 41.67 hours.\n",
      "\n",
      "Therefore, it will take 100 machines 41.67 hours to make 100 widgets.\n",
      "\n",
      "Problem: A bat and a ball cost $1.10 in total. The bat costs $1.00 more than the ball. How much does the ball cost?\n",
      "Few-shot CoT Response: assistant\n",
      "\n",
      "Let's solve the last problem step by step.\n",
      "\n",
      "Let the cost of the ball be x dollars. Since the bat costs $1.00 more than the ball, the cost of the bat is x + $1.00.\n",
      "\n",
      "The total cost of the bat and the ball is $1.10, so we can write an equation:\n",
      "\n",
      "x + (x + $1.00) = $1.10\n",
      "\n",
      "Combine like terms:\n",
      "\n",
      "2x + $1.00 = $1.10\n",
      "\n",
      "Subtract $1.00 from both sides:\n",
      "\n",
      "2x = $0.10\n",
      "\n",
      "Divide both sides by 2:\n",
      "\n",
      "x = $0.05\n",
      "\n",
      "So, the ball costs $0.05.\n",
      "\n"
     ]
    }
   ],
   "source": [
    "def few_shot_cot_prompt(problem):\n",
    "    \"\"\"\n",
    "    Perform few-shot Chain-of-Thought prompting.\n",
    "\n",
    "    Args:\n",
    "        problem (str): The reasoning problem\n",
    "\n",
    "    Returns:\n",
    "        str: The model's response\n",
    "    \"\"\"\n",
    "    prompt = \"\"\"\n",
    "    I'll solve some math problems step by step.\n",
    "\n",
    "    Problem: If John has 5 apples and gives 2 to Mary, how many apples does John have left?\n",
    "    Solution: John starts with 5 apples. He gives 2 apples to Mary. So, John has 5 - 2 = 3 apples left.\n",
    "\n",
    "    Problem: A rectangle has a length of 10 cm and a width of 5 cm. What is its area?\n",
    "    Solution: The area of a rectangle is calculated by multiplying length × width. So, the area is 10 cm × 5 cm = 50 square cm.\n",
    "\n",
    "    Problem: If a car travels at 60 miles per hour, how far will it travel in 2 hours?\n",
    "    Solution: Distance = Speed × Time. So, the car will travel 60 miles/hour × 2 hours = 120 miles.\n",
    "\n",
    "    Problem: {problem}\n",
    "    Solution:\n",
    "    \"\"\".format(problem=problem)\n",
    "\n",
    "    return query_llm(prompt)\n",
    "\n",
    "# Test few-shot CoT prompting on our reasoning problems\n",
    "few_shot_cot_results = []\n",
    "for problem in reasoning_problems:\n",
    "    response = few_shot_cot_prompt(problem[0])  # Get the response from the model\n",
    "    few_shot_cot_results.append({\n",
    "        \"problem\": problem[0],\n",
    "        \"response\": response\n",
    "    })\n",
    "    print(f\"Problem: {problem[0]}\")\n",
    "    print(f\"Few-shot CoT Response: {response}\\n\")\n"
   ]
  },
  {
   "cell_type": "code",
   "execution_count": 13,
   "id": "3f809583",
   "metadata": {},
   "outputs": [
    {
     "name": "stdout",
     "output_type": "stream",
     "text": [
      "                                             Problem  \\\n",
      "0  [If a shirt originally costs $100 and is on sa...   \n",
      "1  [A train travels at a speed of 60 miles per ho...   \n",
      "2  [If it takes 5 machines 5 minutes to make 5 wi...   \n",
      "3  [A bat and a ball cost $1.10 in total. The bat...   \n",
      "\n",
      "                                     Standard Answer  \\\n",
      "0                                             $67.50   \n",
      "1                                                      \n",
      "2  Let's set up the proportion:\\n\\n5 machines / 5...   \n",
      "3                                              $0.05   \n",
      "\n",
      "                                          CoT Answer  \\\n",
      "0                                             $67.50   \n",
      "1  assistant\\n\\nTo solve this problem, we need to...   \n",
      "2  Therefore, it would take 100 machines 500 minu...   \n",
      "3                                              $0.05   \n",
      "\n",
      "                                 Few-shot CoT Answer  \n",
      "0                                             $67.50  \n",
      "1  5 hours\\nDistance = 150 miles\\n\\nSo, the train...  \n",
      "2            Therefore, it will take 100 machines 41  \n",
      "3                                              $0.05  \n"
     ]
    }
   ],
   "source": [
    "import re\n",
    "import pandas as pd\n",
    "\n",
    "def extract_final_answer(response):\n",
    "    \"\"\"\n",
    "    Attempt to extract just the final numerical answer from a response.\n",
    "    This is a simple implementation and may need refinement for complex responses.\n",
    "\n",
    "    Args:\n",
    "        response (str): The model's full response\n",
    "\n",
    "    Returns:\n",
    "        str: The extracted final answer, or the original response if extraction fails\n",
    "    \"\"\"\n",
    "    # Look for common patterns in answers\n",
    "    if \"$\" in response:\n",
    "        # Try to find monetary amounts\n",
    "        matches = re.findall(r'\\$\\d+\\.?\\d*', response)\n",
    "        if matches:\n",
    "            return matches[-1]  # Return the last monetary amount found\n",
    "\n",
    "    # Look for the last sentence that might contain the answer\n",
    "    sentences = response.split('.')\n",
    "    for sentence in reversed(sentences):\n",
    "        if any(word in sentence.lower() for word in ['answer', 'result', 'therefore', 'so', 'thus', 'final']):\n",
    "            return sentence.strip()\n",
    "\n",
    "    # If we can't extract a specific answer, return the last sentence\n",
    "    if sentences:\n",
    "        return sentences[-1].strip()\n",
    "\n",
    "    return response\n",
    "\n",
    "# Compare the approaches\n",
    "comparison_data = []\n",
    "for i in range(len(reasoning_problems)):\n",
    "    standard_answer = extract_final_answer(standard_results[i][\"response\"])\n",
    "    cot_answer = extract_final_answer(cot_results[i][\"response\"])\n",
    "    few_shot_cot_answer = extract_final_answer(few_shot_cot_results[i][\"response\"])\n",
    "\n",
    "    comparison_data.append({\n",
    "        \"Problem\": reasoning_problems[i],\n",
    "        \"Standard Answer\": standard_answer,\n",
    "        \"CoT Answer\": cot_answer,\n",
    "        \"Few-shot CoT Answer\": few_shot_cot_answer\n",
    "    })\n",
    "\n",
    "# Create a DataFrame to show the results\n",
    "comparison_df = pd.DataFrame(comparison_data)\n",
    "print(comparison_df)\n",
    "\n",
    "# You can also save this to a CSV for further analysis\n",
    "comparison_df.to_csv(\"cot_comparison.csv\", index=False)\n"
   ]
  },
  {
   "cell_type": "code",
   "execution_count": 14,
   "id": "1e0ca0e3",
   "metadata": {},
   "outputs": [],
   "source": [
    "decision_problems = [\n",
    "    \"Should a small business invest in expensive automation technology or hire more staff?\",\n",
    "    \"Is it better to pursue higher education immediately after undergraduate studies or gain work experience first?\",\n",
    "    \"For a city with traffic congestion, should they invest in expanding roads or improving public transportation?\"\n",
    "]"
   ]
  },
  {
   "cell_type": "code",
   "execution_count": 15,
   "id": "b62808a5",
   "metadata": {},
   "outputs": [
    {
     "name": "stderr",
     "output_type": "stream",
     "text": [
      "Setting `pad_token_id` to `eos_token_id`:128001 for open-end generation.\n"
     ]
    },
    {
     "name": "stdout",
     "output_type": "stream",
     "text": [
      "Generating initial thoughts for: Should a small business invest in expensive automation technology or hire more staff?\n"
     ]
    },
    {
     "name": "stderr",
     "output_type": "stream",
     "text": [
      "Setting `pad_token_id` to `eos_token_id`:128001 for open-end generation.\n"
     ]
    },
    {
     "name": "stdout",
     "output_type": "stream",
     "text": [
      "Evaluating thoughts...\n"
     ]
    },
    {
     "name": "stderr",
     "output_type": "stream",
     "text": [
      "Setting `pad_token_id` to `eos_token_id`:128001 for open-end generation.\n"
     ]
    },
    {
     "name": "stdout",
     "output_type": "stream",
     "text": [
      "Thought: assistant Here are three different initial thought... Score: 7\n"
     ]
    },
    {
     "name": "stderr",
     "output_type": "stream",
     "text": [
      "Setting `pad_token_id` to `eos_token_id`:128001 for open-end generation.\n"
     ]
    },
    {
     "name": "stdout",
     "output_type": "stream",
     "text": [
      "Thought: 1. **Cost-Benefit Analysis Approach**: From a pure... Score: 7\n"
     ]
    },
    {
     "name": "stderr",
     "output_type": "stream",
     "text": [
      "Setting `pad_token_id` to `eos_token_id`:128001 for open-end generation.\n"
     ]
    },
    {
     "name": "stdout",
     "output_type": "stream",
     "text": [
      "Thought: 2. **Operational Efficiency Perspective**: This ap... Score: 8\n",
      "Selected best thought: 2. **Operational Efficiency Perspective**: This approach focuses on the operational efficiency of th...\n",
      "Expanding best thought...\n"
     ]
    },
    {
     "name": "stderr",
     "output_type": "stream",
     "text": [
      "Setting `pad_token_id` to `eos_token_id`:128001 for open-end generation.\n"
     ]
    },
    {
     "name": "stdout",
     "output_type": "stream",
     "text": [
      "Generating final answer...\n"
     ]
    },
    {
     "name": "stderr",
     "output_type": "stream",
     "text": [
      "Setting `pad_token_id` to `eos_token_id`:128001 for open-end generation.\n"
     ]
    },
    {
     "name": "stdout",
     "output_type": "stream",
     "text": [
      "\n",
      "Final Answer:\n",
      "assistant\n",
      "\n",
      "Based on the operational efficiency perspective, a small business should consider investing in automation technology if it can:\n",
      "\n",
      "1. Identify areas where automation can streamline processes, reduce waste, and increase productivity.\n",
      "2. Weigh the costs of automation against the benefits, considering the potential return on investment (ROI) and payback period.\n",
      "3. Evaluate the type of automation that best suits the business's needs, such as discrete, discrete-integrated, or hybrid automation.\n",
      "4. Assess how automation can improve productivity and efficiency, while also considering potential challenges and risks.\n",
      "\n",
      "If the business determines that automation is the best option, it should:\n",
      "\n",
      "1. Develop a phased implementation plan to minimize disruption and ensure a smooth transition.\n",
      "2. Establish a project team to oversee the implementation process.\n",
      "3. Continuously evaluate and refine the implementation to ensure it meets the business's goals and objectives.\n",
      "\n",
      "On the other hand, if the business determines that hiring more staff is the best option, it should:\n",
      "\n",
      "1. Evaluate the current staffing levels and roles within the business.\n",
      "2. Identify areas where hiring more staff can improve productivity and efficiency.\n",
      "3. Consider the potential benefits of hiring, such as increased morale and engagement.\n",
      "\n",
      "Ultimately, the decision to invest in automation or hire more staff depends on the specific needs and goals of the business. A thorough analysis and evaluation of the options will help the business make an informed decision.\n",
      "\n",
      "--------------------------------------------------\n",
      "\n",
      "Generating initial thoughts for: Is it better to pursue higher education immediately after undergraduate studies or gain work experience first?\n"
     ]
    },
    {
     "name": "stderr",
     "output_type": "stream",
     "text": [
      "Setting `pad_token_id` to `eos_token_id`:128001 for open-end generation.\n"
     ]
    },
    {
     "name": "stdout",
     "output_type": "stream",
     "text": [
      "Evaluating thoughts...\n"
     ]
    },
    {
     "name": "stderr",
     "output_type": "stream",
     "text": [
      "Setting `pad_token_id` to `eos_token_id`:128001 for open-end generation.\n"
     ]
    },
    {
     "name": "stdout",
     "output_type": "stream",
     "text": [
      "Thought: assistant Here are three different initial thought... Score: 28\n"
     ]
    },
    {
     "name": "stderr",
     "output_type": "stream",
     "text": [
      "Setting `pad_token_id` to `eos_token_id`:128001 for open-end generation.\n"
     ]
    },
    {
     "name": "stdout",
     "output_type": "stream",
     "text": [
      "Thought: 1. **The Traditional Path: Emphasizing Immediate H... Score: 30\n"
     ]
    },
    {
     "name": "stderr",
     "output_type": "stream",
     "text": [
      "Setting `pad_token_id` to `eos_token_id`:128001 for open-end generation.\n"
     ]
    },
    {
     "name": "stdout",
     "output_type": "stream",
     "text": [
      "Thought: 2. **The Practical Approach: Focusing on Work Expe... Score: 30\n",
      "Selected best thought: 1. **The Traditional Path: Emphasizing Immediate Higher Education** Pursuing higher education immedi...\n",
      "Expanding best thought...\n"
     ]
    },
    {
     "name": "stderr",
     "output_type": "stream",
     "text": [
      "Setting `pad_token_id` to `eos_token_id`:128001 for open-end generation.\n"
     ]
    },
    {
     "name": "stdout",
     "output_type": "stream",
     "text": [
      "Generating final answer...\n"
     ]
    },
    {
     "name": "stderr",
     "output_type": "stream",
     "text": [
      "Setting `pad_token_id` to `eos_token_id`:128001 for open-end generation.\n"
     ]
    },
    {
     "name": "stdout",
     "output_type": "stream",
     "text": [
      "\n",
      "Final Answer:\n",
      "assistant\n",
      "\n",
      "Based on the step-by-step reasoning process, the final answer is that there is no one-size-fits-all solution. The best approach depends on individual circumstances, goals, and priorities. However, here are some general recommendations:\n",
      "\n",
      "**For those with clear career goals and financial means:**\n",
      "Pursuing higher education immediately after undergraduate studies can be a good option, as it can accelerate career advancement and increase earning potential.\n",
      "\n",
      "**For those with uncertain career goals or financial constraints:**\n",
      "Gaining work experience first can be beneficial, as it provides practical skills, confidence, and networking opportunities. This can also help individuals explore different career paths and gain a better understanding of their strengths and weaknesses.\n",
      "\n",
      "**For those who value work-life balance and flexibility:**\n",
      "Considering alternative paths, such as part-time or online programs, internships, or freelancing, can offer a balance between education and work experience.\n",
      "\n",
      "**Ultimately, the decision should be based on:**\n",
      "\n",
      "1. Personal goals and priorities\n",
      "2. Financial constraints and means\n",
      "3. Career aspirations and interests\n",
      "4. Time management and adaptability\n",
      "5. Ability to balance work and education\n",
      "\n",
      "It's essential to weigh the pros and cons of each option, consider seeking advice, and make a decision that aligns with your values and goals.\n",
      "\n",
      "--------------------------------------------------\n",
      "\n",
      "Generating initial thoughts for: For a city with traffic congestion, should they invest in expanding roads or improving public transportation?\n"
     ]
    },
    {
     "name": "stderr",
     "output_type": "stream",
     "text": [
      "Setting `pad_token_id` to `eos_token_id`:128001 for open-end generation.\n"
     ]
    },
    {
     "name": "stdout",
     "output_type": "stream",
     "text": [
      "Evaluating thoughts...\n"
     ]
    },
    {
     "name": "stderr",
     "output_type": "stream",
     "text": [
      "Setting `pad_token_id` to `eos_token_id`:128001 for open-end generation.\n"
     ]
    },
    {
     "name": "stdout",
     "output_type": "stream",
     "text": [
      "Thought: assistant Here are three different initial thought... Score: 5\n"
     ]
    },
    {
     "name": "stderr",
     "output_type": "stream",
     "text": [
      "Setting `pad_token_id` to `eos_token_id`:128001 for open-end generation.\n"
     ]
    },
    {
     "name": "stdout",
     "output_type": "stream",
     "text": [
      "Thought: 1. **Economic Efficiency Perspective**: From an ec... Score: 6\n"
     ]
    },
    {
     "name": "stderr",
     "output_type": "stream",
     "text": [
      "Setting `pad_token_id` to `eos_token_id`:128001 for open-end generation.\n"
     ]
    },
    {
     "name": "stdout",
     "output_type": "stream",
     "text": [
      "Thought: 2. **Environmental Sustainability Perspective**: F... Score: 7\n",
      "Selected best thought: 2. **Environmental Sustainability Perspective**: From an environmental perspective, the city should ...\n",
      "Expanding best thought...\n"
     ]
    },
    {
     "name": "stderr",
     "output_type": "stream",
     "text": [
      "Setting `pad_token_id` to `eos_token_id`:128001 for open-end generation.\n"
     ]
    },
    {
     "name": "stdout",
     "output_type": "stream",
     "text": [
      "Generating final answer...\n",
      "\n",
      "Final Answer:\n",
      "assistant\n",
      "\n",
      "Based on the analysis and evaluation of the environmental sustainability perspective, I recommend that the city invest in improving public transportation, rather than expanding roads. This decision is supported by the potential health and social benefits of alternative modes of transportation, such as reduced rates of obesity and cardiovascular disease, and increased social interaction. Additionally, improving public transportation can lead to reduced traffic congestion, decreased fuel consumption, and increased productivity, as well as improved air quality and greenhouse gas emissions. While expanding roads may provide short-term relief from traffic congestion, the long-term environmental costs and health impacts of increased vehicle usage outweigh the benefits. Furthermore, investing in public transportation can have positive economic benefits, such as reduced healthcare costs and increased economic activity, and can promote a more sustainable and livable city.\n",
      "\n",
      "--------------------------------------------------\n",
      "\n"
     ]
    }
   ],
   "source": [
    "def generate_thoughts(problem, n=3):\n",
    "    \"\"\"Generate multiple initial thoughts/angles for a problem.\"\"\"\n",
    "    prompt = f\"\"\"\n",
    "    For the following problem, generate {n} different initial thoughts or approaches to solve it.\n",
    "    Each thought should represent a different perspective or starting point.\n",
    "    Problem: {problem}\n",
    "    Generate {n} distinct thoughts numbered 1-{n}:\n",
    "    \"\"\"\n",
    "\n",
    "    response = query_llm(prompt, max_new_tokens=1000)\n",
    "\n",
    "    # Parse the response to extract individual thoughts\n",
    "    thoughts = []\n",
    "    current_thought = \"\"\n",
    "\n",
    "    for line in response.split('\\n'):\n",
    "        line = line.strip()\n",
    "        if not line:\n",
    "            continue\n",
    "\n",
    "        # Check if line starts with a number followed by period or colon\n",
    "        if any(line.startswith(f\"{i}.\") for i in range(1, n+1)):\n",
    "            if current_thought:\n",
    "                thoughts.append(current_thought.strip())\n",
    "            current_thought = line\n",
    "        else:\n",
    "            current_thought += \" \" + line\n",
    "\n",
    "    # Add the last thought\n",
    "    if current_thought:\n",
    "        thoughts.append(current_thought.strip())\n",
    "\n",
    "    # Ensure we have exactly n thoughts (or as many as we could parse)\n",
    "    return thoughts[:n]\n",
    "\n",
    "def evaluate_thought(problem, thought):\n",
    "    \"\"\"Evaluate a single thought for its potential in solving the problem.\"\"\"\n",
    "    prompt = f\"\"\"\n",
    "    Problem: {problem}\n",
    "    Thought: {thought}\n",
    "    Evaluate this thought on a scale of 1-10 based on:\n",
    "    1. Relevance to the problem\n",
    "    2. Creativity and uniqueness\n",
    "    3. Potential to lead to a good solution\n",
    "    4. Practical feasibility\n",
    "    Provide a numerical score for each criterion, an overall score, and brief reasoning for your evaluation.\n",
    "    \"\"\"\n",
    "\n",
    "    response = query_llm(prompt)\n",
    "\n",
    "    # Extract overall score (this is a simple implementation)\n",
    "    import re\n",
    "    score_match = re.search(r'overall score[:\\s]*(\\d+)', response.lower())\n",
    "\n",
    "    overall_score = 5  # Default middle score\n",
    "    if score_match:\n",
    "        try:\n",
    "            overall_score = int(score_match.group(1))\n",
    "        except ValueError:\n",
    "            pass\n",
    "\n",
    "    return {\n",
    "        \"thought\": thought,\n",
    "        \"evaluation\": response,\n",
    "        \"score\": overall_score\n",
    "    }\n",
    "\n",
    "def expand_thought(problem, thought):\n",
    "    \"\"\"Expand a thought with a detailed reasoning path.\"\"\"\n",
    "    prompt = f\"\"\"\n",
    "    Problem: {problem}\n",
    "    Thought: {thought}\n",
    "    Expand this thought into a detailed step-by-step reasoning path that addresses the problem.\n",
    "    Consider implications, potential challenges, and possible outcomes.\n",
    "    \"\"\"\n",
    "    return query_llm(prompt, max_new_tokens=1000)\n",
    "\n",
    "def tot_solve(problem):\n",
    "    \"\"\"Solve a problem using Tree of Thoughts approach.\"\"\"\n",
    "    # Step 1: Generate multiple initial thoughts\n",
    "    print(f\"Generating initial thoughts for: {problem}\")\n",
    "    thoughts = generate_thoughts(problem, n=3)\n",
    "\n",
    "    # Step 2: Evaluate each thought\n",
    "    print(\"Evaluating thoughts...\")\n",
    "    evaluations = []\n",
    "    for thought in thoughts:\n",
    "        eval_result = evaluate_thought(problem, thought)\n",
    "        evaluations.append(eval_result)\n",
    "        print(f\"Thought: {thought[:50]}... Score: {eval_result['score']}\")\n",
    "\n",
    "    # Step 3: Select the most promising thought\n",
    "    evaluations.sort(key=lambda x: x['score'], reverse=True)\n",
    "    best_thought = evaluations[0]['thought']\n",
    "    print(f\"Selected best thought: {best_thought[:100]}...\")\n",
    "\n",
    "    # Step 4: Expand the most promising thought\n",
    "    print(\"Expanding best thought...\")\n",
    "    expanded_reasoning = expand_thought(problem, best_thought)\n",
    "\n",
    "    # Step 5: Generate final answer based on expanded reasoning\n",
    "    print(\"Generating final answer...\")\n",
    "    prompt = f\"\"\"\n",
    "    Problem: {problem}\n",
    "    Reasoning process:\n",
    "    {expanded_reasoning}\n",
    "    Based on this reasoning, what is the final answer or recommendation for this problem?\n",
    "    Provide a concise but comprehensive answer.\n",
    "    \"\"\"\n",
    "\n",
    "    final_answer = query_llm(prompt)\n",
    "\n",
    "    return {\n",
    "        \"problem\": problem,\n",
    "        \"initial_thoughts\": thoughts,\n",
    "        \"evaluations\": evaluations,\n",
    "        \"best_thought\": best_thought,\n",
    "        \"expanded_reasoning\": expanded_reasoning,\n",
    "        \"final_answer\": final_answer\n",
    "    }\n",
    "\n",
    "# Test ToT on our decision problems\n",
    "decision_problems = [\n",
    "    \"Should a small business invest in expensive automation technology or hire more staff?\",\n",
    "    \"Is it better to pursue higher education immediately after undergraduate studies or gain work experience first?\",\n",
    "    \"For a city with traffic congestion, should they invest in expanding roads or improving public transportation?\"\n",
    "]\n",
    "\n",
    "tot_results = []\n",
    "for problem in decision_problems:\n",
    "    result = tot_solve(problem)\n",
    "    tot_results.append(result)\n",
    "    print(\"\\nFinal Answer:\")\n",
    "    print(result[\"final_answer\"])\n",
    "    print(\"\\n\" + \"-\"*50 + \"\\n\")\n"
   ]
  },
  {
   "cell_type": "code",
   "execution_count": 16,
   "id": "65c07788",
   "metadata": {},
   "outputs": [
    {
     "name": "stdout",
     "output_type": "stream",
     "text": [
      "Problem: Should a small business invest in expensive automation technology or hire more staff?\n",
      "\n",
      "Initial Thoughts:\n",
      "1. assistant Here are three different initial thoughts or approaches to solve the problem: (Score: 7)\n",
      "\n",
      "2. 1. **Cost-Benefit Analysis Approach**: From a purely financial perspective, a small business should consider the cost of implementing expensive automation technology versus the cost of hiring more staff. This approach involves weighing the upfront costs of the technology against the potential long-term savings and increased efficiency it can bring. A business can calculate the cost of ownership, maintenance, and potential returns on investment (ROI) to make a data-driven decision. This approach helps businesses prioritize their spending based on financial metrics. (Score: 7)\n",
      "\n",
      "3. 2. **Operational Efficiency Perspective**: This approach focuses on the operational efficiency of the business. A small business should consider how automation can streamline processes, reduce waste, and increase productivity. By identifying bottlenecks and areas where automation can make a significant impact, a business can optimize its operations and free up resources for more strategic initiatives. This approach prioritizes the business's ability to deliver high-quality products or services while maintaining competitiveness. (Score: 8)\n",
      "\n",
      "Best Thought Selected: 2. **Operational Efficiency Perspective**: This approach focuses on the operational efficiency of the business. A small business should consider how automation can streamline processes, reduce waste, and increase productivity. By identifying bottlenecks and areas where automation can make a significant impact, a business can optimize its operations and free up resources for more strategic initiatives. This approach prioritizes the business's ability to deliver high-quality products or services while maintaining competitiveness.\n",
      "\n",
      "Final Answer: assistant\n",
      "\n",
      "Based on the operational efficiency perspective, a small business should consider investing in automation technology if it can:\n",
      "\n",
      "1. Identify areas where automation can streamline processes, reduce waste, and increase productivity.\n",
      "2. Weigh the costs of automation against the benefits, considering the potential return on investment (ROI) and payback period.\n",
      "3. Evaluate the type of automation that best suits the business's needs, such as discrete, discrete-integrated, or hybrid automation.\n",
      "4. Assess how automation can improve productivity and efficiency, while also considering potential challenges and risks.\n",
      "\n",
      "If the business determines that automation is the best option, it should:\n",
      "\n",
      "1. Develop a phased implementation plan to minimize disruption and ensure a smooth transition.\n",
      "2. Establish a project team to oversee the implementation process.\n",
      "3. Continuously evaluate and refine the implementation to ensure it meets the business's goals and objectives.\n",
      "\n",
      "On the other hand, if the business determines that hiring more staff is the best option, it should:\n",
      "\n",
      "1. Evaluate the current staffing levels and roles within the business.\n",
      "2. Identify areas where hiring more staff can improve productivity and efficiency.\n",
      "3. Consider the potential benefits of hiring, such as increased morale and engagement.\n",
      "\n",
      "Ultimately, the decision to invest in automation or hire more staff depends on the specific needs and goals of the business. A thorough analysis and evaluation of the options will help the business make an informed decision.\n",
      "\n",
      "================================================================================\n",
      "\n",
      "Problem: Is it better to pursue higher education immediately after undergraduate studies or gain work experience first?\n",
      "\n",
      "Initial Thoughts:\n",
      "1. assistant Here are three different initial thoughts or approaches to solve the problem: (Score: 28)\n",
      "\n",
      "2. 1. **The Traditional Path: Emphasizing Immediate Higher Education** Pursuing higher education immediately after undergraduate studies is often seen as the traditional path to securing a stable and well-paying job. This approach assumes that the individual is well-prepared to take on the academic rigor and demands of a graduate program, and that the potential benefits of a higher degree outweigh the costs of delayed entry into the workforce. By enrolling in a graduate program shortly after undergraduate studies, individuals can: * Leverage their existing knowledge and experience to accelerate their career advancement * Gain specialized skills and expertise in their chosen field * Increase their earning potential and job prospects However, this approach may not be suitable for everyone, particularly those who need to gain practical experience or build their confidence in their chosen field before pursuing advanced studies. (Score: 30)\n",
      "\n",
      "3. 2. **The Practical Approach: Focusing on Work Experience and Skill-Building** Gaining work experience before pursuing higher education can be a more practical and effective approach. This perspective emphasizes the importance of building a strong foundation of skills, knowledge, and experience in the workplace before investing in advanced education. By doing so, individuals can: * Develop a clearer understanding of their strengths and weaknesses * Gain practical experience and a deeper understanding of the industry or field * Build a professional network and establish themselves as experts in their chosen field * Avoid the financial burden of pursuing higher education immediately However, this approach may require individuals to take on more responsibilities, work longer hours, and potentially sacrifice some personal time and energy. (Score: 30)\n",
      "\n",
      "Best Thought Selected: 1. **The Traditional Path: Emphasizing Immediate Higher Education** Pursuing higher education immediately after undergraduate studies is often seen as the traditional path to securing a stable and well-paying job. This approach assumes that the individual is well-prepared to take on the academic rigor and demands of a graduate program, and that the potential benefits of a higher degree outweigh the costs of delayed entry into the workforce. By enrolling in a graduate program shortly after undergraduate studies, individuals can: * Leverage their existing knowledge and experience to accelerate their career advancement * Gain specialized skills and expertise in their chosen field * Increase their earning potential and job prospects However, this approach may not be suitable for everyone, particularly those who need to gain practical experience or build their confidence in their chosen field before pursuing advanced studies.\n",
      "\n",
      "Final Answer: assistant\n",
      "\n",
      "Based on the step-by-step reasoning process, the final answer is that there is no one-size-fits-all solution. The best approach depends on individual circumstances, goals, and priorities. However, here are some general recommendations:\n",
      "\n",
      "**For those with clear career goals and financial means:**\n",
      "Pursuing higher education immediately after undergraduate studies can be a good option, as it can accelerate career advancement and increase earning potential.\n",
      "\n",
      "**For those with uncertain career goals or financial constraints:**\n",
      "Gaining work experience first can be beneficial, as it provides practical skills, confidence, and networking opportunities. This can also help individuals explore different career paths and gain a better understanding of their strengths and weaknesses.\n",
      "\n",
      "**For those who value work-life balance and flexibility:**\n",
      "Considering alternative paths, such as part-time or online programs, internships, or freelancing, can offer a balance between education and work experience.\n",
      "\n",
      "**Ultimately, the decision should be based on:**\n",
      "\n",
      "1. Personal goals and priorities\n",
      "2. Financial constraints and means\n",
      "3. Career aspirations and interests\n",
      "4. Time management and adaptability\n",
      "5. Ability to balance work and education\n",
      "\n",
      "It's essential to weigh the pros and cons of each option, consider seeking advice, and make a decision that aligns with your values and goals.\n",
      "\n",
      "================================================================================\n",
      "\n",
      "Problem: For a city with traffic congestion, should they invest in expanding roads or improving public transportation?\n",
      "\n",
      "Initial Thoughts:\n",
      "1. assistant Here are three different initial thoughts or approaches to solve the problem of traffic congestion in a city, each representing a distinct perspective or starting point: (Score: 5)\n",
      "\n",
      "2. 1. **Economic Efficiency Perspective**: From an economic standpoint, the city should prioritize investing in expanding roads. This approach focuses on reducing travel times and increasing the overall efficiency of the transportation system. By expanding roads, the city can reduce congestion, decrease travel times, and increase productivity. This, in turn, can lead to increased economic growth, as businesses and individuals can move goods and people more quickly and efficiently. This approach also assumes that the city's infrastructure can be expanded to accommodate increased traffic, without overburdening the existing infrastructure. (Score: 6)\n",
      "\n",
      "3. 2. **Environmental Sustainability Perspective**: From an environmental perspective, the city should prioritize improving public transportation. This approach focuses on reducing the city's carbon footprint and promoting sustainable transportation options. By investing in public transportation, the city can decrease air pollution, reduce greenhouse gas emissions, and promote a more environmentally friendly transportation system. This approach also encourages the use of alternative modes of transportation, such as walking, cycling, and electric vehicles, which can have numerous health and social benefits. Additionally, public transportation can be designed to be more efficient and sustainable, reducing the need for personal vehicles. (Score: 7)\n",
      "\n",
      "Best Thought Selected: 2. **Environmental Sustainability Perspective**: From an environmental perspective, the city should prioritize improving public transportation. This approach focuses on reducing the city's carbon footprint and promoting sustainable transportation options. By investing in public transportation, the city can decrease air pollution, reduce greenhouse gas emissions, and promote a more environmentally friendly transportation system. This approach also encourages the use of alternative modes of transportation, such as walking, cycling, and electric vehicles, which can have numerous health and social benefits. Additionally, public transportation can be designed to be more efficient and sustainable, reducing the need for personal vehicles.\n",
      "\n",
      "Final Answer: assistant\n",
      "\n",
      "Based on the analysis and evaluation of the environmental sustainability perspective, I recommend that the city invest in improving public transportation, rather than expanding roads. This decision is supported by the potential health and social benefits of alternative modes of transportation, such as reduced rates of obesity and cardiovascular disease, and increased social interaction. Additionally, improving public transportation can lead to reduced traffic congestion, decreased fuel consumption, and increased productivity, as well as improved air quality and greenhouse gas emissions. While expanding roads may provide short-term relief from traffic congestion, the long-term environmental costs and health impacts of increased vehicle usage outweigh the benefits. Furthermore, investing in public transportation can have positive economic benefits, such as reduced healthcare costs and increased economic activity, and can promote a more sustainable and livable city.\n",
      "\n",
      "================================================================================\n",
      "\n"
     ]
    }
   ],
   "source": [
    "def create_tot_summary(tot_result):\n",
    "    \"\"\"\n",
    "    Create a summary of the Tree of Thoughts process for a problem.\n",
    "\n",
    "    Args:\n",
    "        tot_result (dict): Result from tot_solve\n",
    "\n",
    "    Returns:\n",
    "        str: Formatted summary\n",
    "    \"\"\"\n",
    "    problem = tot_result[\"problem\"]\n",
    "    thoughts = tot_result[\"initial_thoughts\"]\n",
    "    evaluations = tot_result[\"evaluations\"]\n",
    "    best_thought = tot_result[\"best_thought\"]\n",
    "    final_answer = tot_result[\"final_answer\"]\n",
    "\n",
    "    summary = f\"Problem: {problem}\\n\\n\"\n",
    "    summary += \"Initial Thoughts:\\n\"\n",
    "\n",
    "    for i, thought in enumerate(thoughts):\n",
    "        # Find the evaluation for this thought\n",
    "        eval_score = \"N/A\"\n",
    "        for eval_result in evaluations:\n",
    "            if eval_result[\"thought\"] == thought:\n",
    "                eval_score = eval_result[\"score\"]\n",
    "                break\n",
    "\n",
    "        summary += f\"{i+1}. {thought} (Score: {eval_score})\\n\\n\"\n",
    "\n",
    "    summary += f\"Best Thought Selected: {best_thought}\\n\\n\"\n",
    "    summary += f\"Final Answer: {final_answer}\\n\"\n",
    "\n",
    "    return summary\n",
    "\n",
    "\n",
    "# Create and display summaries for each problem\n",
    "for result in tot_results:\n",
    "    summary = create_tot_summary(result)\n",
    "    print(summary)\n",
    "    print(\"=\" * 80 + \"\\n\")\n"
   ]
  },
  {
   "cell_type": "code",
   "execution_count": 17,
   "id": "f5d55575",
   "metadata": {},
   "outputs": [],
   "source": [
    "class PromptTechnique:\n",
    "    \"\"\"Base class for prompt techniques.\"\"\"\n",
    "\n",
    "    def __init__(self, name):\n",
    "        self.name = name\n",
    "\n",
    "    def generate_prompt(self, task):\n",
    "        \"\"\"Generate a prompt for the given task.\"\"\"\n",
    "        return task\n",
    "\n",
    "    def execute(self, task):\n",
    "        \"\"\"Execute the technique on a task and return the response.\"\"\"\n",
    "        prompt = self.generate_prompt(task)\n",
    "        return query_llm(prompt)\n",
    "\n",
    "\n",
    "class StandardPrompt(PromptTechnique):\n",
    "    \"\"\"Standard prompting without any special technique.\"\"\"\n",
    "\n",
    "    def __init__(self):\n",
    "        super().__init__(\"Standard\")\n",
    "\n",
    "\n",
    "class ZeroShotPrompt(PromptTechnique):\n",
    "    \"\"\"Zero-shot prompting with clear instructions.\"\"\"\n",
    "\n",
    "    def __init__(self):\n",
    "        super().__init__(\"Zero-shot\")\n",
    "\n",
    "    def generate_prompt(self, task):\n",
    "        return f\"Please respond to the following task: {task}\"\n",
    "\n",
    "\n",
    "class FewShotPrompt(PromptTechnique):\n",
    "    \"\"\"Few-shot prompting with examples.\"\"\"\n",
    "\n",
    "    def __init__(self, examples):\n",
    "        super().__init__(\"Few-shot\")\n",
    "        self.examples = examples\n",
    "\n",
    "    def generate_prompt(self, task):\n",
    "        prompt = \"Here are some examples:\\n\\n\"\n",
    "\n",
    "        for example in self.examples:\n",
    "            prompt += f\"Input: {example['input']}\\nOutput: {example['output']}\\n\\n\"\n",
    "\n",
    "        prompt += f\"Input: {task}\\nOutput:\"\n",
    "        return prompt\n",
    "\n",
    "\n",
    "class CoTPrompt(PromptTechnique):\n",
    "    \"\"\"Chain-of-Thought prompting.\"\"\"\n",
    "\n",
    "    def __init__(self):\n",
    "        super().__init__(\"Chain-of-Thought\")\n",
    "\n",
    "    def generate_prompt(self, task):\n",
    "        return f\"Think through this step by step: {task}\"\n",
    "\n",
    "\n",
    "class FewShotCoTPrompt(PromptTechnique):\n",
    "    \"\"\"Few-shot Chain-of-Thought prompting.\"\"\"\n",
    "\n",
    "    def __init__(self, examples):\n",
    "        super().__init__(\"Few-shot CoT\")\n",
    "        self.examples = examples\n",
    "\n",
    "    def generate_prompt(self, task):\n",
    "        prompt = \"I'll solve some problems step by step.\\n\\n\"\n",
    "\n",
    "        for example in self.examples:\n",
    "            prompt += f\"Problem: {example['input']}\\nSolution: {example['reasoning']}\\n\\n\"\n",
    "\n",
    "        prompt += f\"Problem: {task}\\nSolution:\"\n",
    "        return prompt\n"
   ]
  },
  {
   "cell_type": "code",
   "execution_count": 18,
   "id": "3c60d18b",
   "metadata": {},
   "outputs": [],
   "source": [
    "class PromptTechnique:\n",
    "    \"\"\"Base class for prompt techniques.\"\"\"\n",
    "\n",
    "    def __init__(self, name):\n",
    "        self.name = name\n",
    "\n",
    "    def generate_prompt(self, task):\n",
    "        \"\"\"Generate a prompt for the given task.\"\"\"\n",
    "        return task\n",
    "\n",
    "    def execute(self, task):\n",
    "        \"\"\"Execute the technique on a task and return the response.\"\"\"\n",
    "        prompt = self.generate_prompt(task)\n",
    "        return query_llm(prompt)\n",
    "\n",
    "\n",
    "class StandardPrompt(PromptTechnique):\n",
    "    \"\"\"Standard prompting without any special technique.\"\"\"\n",
    "\n",
    "    def __init__(self):\n",
    "        super().__init__(\"Standard\")\n",
    "\n",
    "\n",
    "class ZeroShotPrompt(PromptTechnique):\n",
    "    \"\"\"Zero-shot prompting with clear instructions.\"\"\"\n",
    "\n",
    "    def __init__(self):\n",
    "        super().__init__(\"Zero-shot\")\n",
    "\n",
    "    def generate_prompt(self, task):\n",
    "        return f\"Please respond to the following task: {task}\"\n",
    "\n",
    "\n",
    "class FewShotPrompt(PromptTechnique):\n",
    "    \"\"\"Few-shot prompting with examples.\"\"\"\n",
    "\n",
    "    def __init__(self, examples):\n",
    "        super().__init__(\"Few-shot\")\n",
    "        self.examples = examples\n",
    "\n",
    "    def generate_prompt(self, task):\n",
    "        prompt = \"Here are some examples:\\n\\n\"\n",
    "\n",
    "        for example in self.examples:\n",
    "            prompt += f\"Input: {example['input']}\\nOutput: {example['output']}\\n\\n\"\n",
    "\n",
    "        prompt += f\"Input: {task}\\nOutput:\"\n",
    "        return prompt\n",
    "\n",
    "\n",
    "class CoTPrompt(PromptTechnique):\n",
    "    \"\"\"Chain-of-Thought prompting.\"\"\"\n",
    "\n",
    "    def __init__(self):\n",
    "        super().__init__(\"Chain-of-Thought\")\n",
    "\n",
    "    def generate_prompt(self, task):\n",
    "        return f\"Think through this step by step: {task}\"\n",
    "\n",
    "\n",
    "class FewShotCoTPrompt(PromptTechnique):\n",
    "    \"\"\"Few-shot Chain-of-Thought prompting.\"\"\"\n",
    "\n",
    "    def __init__(self, examples):\n",
    "        super().__init__(\"Few-shot CoT\")\n",
    "        self.examples = examples\n",
    "\n",
    "    def generate_prompt(self, task):\n",
    "        prompt = \"I'll solve some problems step by step.\\n\\n\"\n",
    "\n",
    "        for example in self.examples:\n",
    "            prompt += f\"Problem: {example['input']}\\nSolution: {example['reasoning']}\\n\\n\"\n",
    "\n",
    "        prompt += f\"Problem: {task}\\nSolution:\"\n",
    "        return prompt\n"
   ]
  },
  {
   "cell_type": "code",
   "execution_count": 19,
   "id": "4a57dbe1",
   "metadata": {},
   "outputs": [],
   "source": [
    "# Define evaluation tasks by category\n",
    "evaluation_tasks = {\n",
    "    \"math_reasoning\": [\n",
    "        \"If a shirt originally costs $100 and is on sale for 25% off, and then an additional 10% is taken off the discounted price, what is the final price?\",\n",
    "        \"A train travels at a speed of 60 miles per hour. How far will it travel in 2.5 hours?\"\n",
    "    ],\n",
    "    \"common_sense\": [\n",
    "        \"If I put a few ice cubes in a glass of water at room temperature and leave it for 30 minutes, what will happen?\",\n",
    "        \"Why do cars have seat belts?\"\n",
    "    ],\n",
    "    \"creative_writing\": [\n",
    "        \"Write a short story about a robot that develops emotions.\",\n",
    "        \"Create a poem about autumn leaves.\"\n",
    "    ],\n",
    "    \"classification\": [\n",
    "        \"Classify this review as positive or negative: 'The food was delicious but the service was terrible.'\",\n",
    "        \"Determine if this statement is objective or subjective: 'The movie was released in 2022.'\"\n",
    "    ]\n",
    "}\n",
    "\n",
    "# Define examples for few-shot techniques\n",
    "few_shot_examples = {\n",
    "    \"math_reasoning\": [\n",
    "        {\n",
    "            \"input\": \"If John has 5 apples and gives 2 to Mary, how many does he have left?\",\n",
    "            \"output\": \"3 apples\",\n",
    "            \"reasoning\": \"John starts with 5 apples. He gives 2 apples to Mary. So, John has 5 - 2 = 3 apples left.\"\n",
    "        },\n",
    "        {\n",
    "            \"input\": \"A rectangle has a length of 10 cm and a width of 5 cm. What is its area?\",\n",
    "            \"output\": \"50 square cm\",\n",
    "            \"reasoning\": \"The area of a rectangle is calculated by multiplying length × width. So, the area is 10 cm × 5 cm = 50 square cm.\"\n",
    "        }\n",
    "    ],\n",
    "    \"common_sense\": [\n",
    "        {\n",
    "            \"input\": \"What happens if you drop a glass on a hard floor?\",\n",
    "            \"output\": \"The glass will likely break.\",\n",
    "            \"reasoning\": \"Glass is a brittle material. When dropped on a hard floor, the impact force exceeds the material's resistance to breakage.\"\n",
    "        },\n",
    "        {\n",
    "            \"input\": \"Why do plants need sunlight?\",\n",
    "            \"output\": \"Plants need sunlight for photosynthesis.\",\n",
    "            \"reasoning\": \"Plants use sunlight in the process of photosynthesis to convert light energy into chemical energy.\"\n",
    "        }\n",
    "    ],\n",
    "    \"creative_writing\": [\n",
    "        {\n",
    "            \"input\": \"Write a short story about a lost dog.\",\n",
    "            \"output\": \"Max wagged his tail as he chased the squirrel into the woods. Only when it disappeared up a tree did he realize he was lost...\",\n",
    "            \"reasoning\": \"This is a short emotional story with a beginning (dog gets lost), middle (dog searches for a way out), and an ending (dog finds his way home).\"\n",
    "        }\n",
    "    ],\n",
    "    \"classification\": [\n",
    "        {\n",
    "            \"input\": \"Classify this review as positive or negative: 'The movie was fantastic and I enjoyed every minute of it.'\",\n",
    "            \"output\": \"Positive\",\n",
    "            \"reasoning\": \"This review contains positive words like 'fantastic' and states that the reviewer 'enjoyed every minute of it.'\"\n",
    "        },\n",
    "        {\n",
    "            \"input\": \"Classify this review as positive or negative: 'The hotel room was dirty and the staff was rude.'\",\n",
    "            \"output\": \"Negative\",\n",
    "            \"reasoning\": \"This review contains negative descriptions: 'dirty' room and 'rude' staff.\"\n",
    "        }\n",
    "    ]\n",
    "}\n",
    "\n",
    "def evaluate_responses(task_category, responses, ground_truth=None):\n",
    "    \"\"\"Evaluate responses for a given task category.\"\"\"\n",
    "    task_examples = few_shot_examples.get(task_category, [])\n",
    "    evaluation_results = []\n",
    "\n",
    "    for response, example in zip(responses, task_examples):\n",
    "        result = {\n",
    "            \"input\": example[\"input\"],\n",
    "            \"expected_output\": example[\"output\"],\n",
    "            \"response\": response,\n",
    "            \"match\": response == example[\"output\"]\n",
    "        }\n",
    "\n",
    "        if ground_truth:\n",
    "            result[\"ground_truth\"] = ground_truth.get(task_category, {}).get(example[\"input\"], None)\n",
    "\n",
    "        evaluation_results.append(result)\n",
    "\n",
    "    return evaluation_results\n",
    "def evaluate_responses(task_category, responses, ground_truth=None):\n",
    "    \"\"\"Evaluate responses for a given task category.\n",
    "\n",
    "    Args:\n",
    "        task_category (str): Category of the task\n",
    "        responses (dict): Dictionary of technique name to response\n",
    "        ground_truth (list, optional): List of correct answers if available\n",
    "\n",
    "    Returns:\n",
    "        dict: Evaluation metrics\n",
    "    \"\"\"\n",
    "    # Define category-specific metrics\n",
    "    metrics = {\n",
    "        \"response_length\": {name: len(response.split()) for name, response in responses.items()}\n",
    "    }\n",
    "\n",
    "    # For math reasoning, we could try to extract numerical answers\n",
    "    if task_category == \"math_reasoning\":\n",
    "        import re\n",
    "\n",
    "        def extract_number(text):\n",
    "            # Try to find numerical answers with optional dollar signs\n",
    "            matches = re.findall(r'(\\$?\\d+\\.?\\d*)', text)\n",
    "            if matches:\n",
    "                return matches[-1]  # Return the last number found\n",
    "            return None\n",
    "\n",
    "        numeric_answers = {name: extract_number(response) for name, response in responses.items()}\n",
    "        metrics[\"extracted_answers\"] = numeric_answers\n",
    "\n",
    "    # Ask LLM to evaluate response quality\n",
    "    prompt = f\"\"\"\n",
    "    Evaluate the quality of the following responses to this task:\n",
    "    Task: {responses['task']}\n",
    "    \"\"\"\n",
    "\n",
    "    for name, response in responses.items():\n",
    "        if name != 'task':\n",
    "            prompt += f\"\\nResponse from {name} technique:\\n{response}\\n\"\n",
    "\n",
    "    prompt += \"\"\"\n",
    "    Please rate each response on a scale of 1-10 for the following criteria:\n",
    "    1. Correctness/Accuracy\n",
    "    2. Clarity and coherence\n",
    "    3. Completeness\n",
    "    4. Relevance to the task\n",
    "    Provide numerical ratings and brief explanations for each technique.\n",
    "    \"\"\"\n",
    "\n",
    "    evaluation = query_llm(prompt, max_new_tokens=1000)\n",
    "    metrics[\"llm_evaluation\"] = evaluation\n",
    "\n",
    "    return metrics\n"
   ]
  },
  {
   "cell_type": "code",
   "execution_count": 20,
   "id": "467dfde9",
   "metadata": {},
   "outputs": [
    {
     "name": "stderr",
     "output_type": "stream",
     "text": [
      "Setting `pad_token_id` to `eos_token_id`:128001 for open-end generation.\n"
     ]
    },
    {
     "name": "stdout",
     "output_type": "stream",
     "text": [
      "\n",
      "Evaluating task: If a shirt originally costs $100 and is on sale fo...\n",
      "  Running Standard...\n"
     ]
    },
    {
     "name": "stderr",
     "output_type": "stream",
     "text": [
      "Setting `pad_token_id` to `eos_token_id`:128001 for open-end generation.\n"
     ]
    },
    {
     "name": "stdout",
     "output_type": "stream",
     "text": [
      "  Running Zero-shot...\n"
     ]
    },
    {
     "name": "stderr",
     "output_type": "stream",
     "text": [
      "Setting `pad_token_id` to `eos_token_id`:128001 for open-end generation.\n"
     ]
    },
    {
     "name": "stdout",
     "output_type": "stream",
     "text": [
      "  Running Chain-of-Thought...\n"
     ]
    },
    {
     "name": "stderr",
     "output_type": "stream",
     "text": [
      "Setting `pad_token_id` to `eos_token_id`:128001 for open-end generation.\n"
     ]
    },
    {
     "name": "stdout",
     "output_type": "stream",
     "text": [
      "  Running Few-shot...\n"
     ]
    },
    {
     "name": "stderr",
     "output_type": "stream",
     "text": [
      "Setting `pad_token_id` to `eos_token_id`:128001 for open-end generation.\n"
     ]
    },
    {
     "name": "stdout",
     "output_type": "stream",
     "text": [
      "  Running Few-shot CoT...\n"
     ]
    },
    {
     "name": "stderr",
     "output_type": "stream",
     "text": [
      "Setting `pad_token_id` to `eos_token_id`:128001 for open-end generation.\n",
      "Setting `pad_token_id` to `eos_token_id`:128001 for open-end generation.\n"
     ]
    },
    {
     "name": "stdout",
     "output_type": "stream",
     "text": [
      "\n",
      "Evaluating task: A train travels at a speed of 60 miles per hour. H...\n",
      "  Running Standard...\n"
     ]
    },
    {
     "name": "stderr",
     "output_type": "stream",
     "text": [
      "Setting `pad_token_id` to `eos_token_id`:128001 for open-end generation.\n"
     ]
    },
    {
     "name": "stdout",
     "output_type": "stream",
     "text": [
      "  Running Zero-shot...\n"
     ]
    },
    {
     "name": "stderr",
     "output_type": "stream",
     "text": [
      "Setting `pad_token_id` to `eos_token_id`:128001 for open-end generation.\n"
     ]
    },
    {
     "name": "stdout",
     "output_type": "stream",
     "text": [
      "  Running Chain-of-Thought...\n"
     ]
    },
    {
     "name": "stderr",
     "output_type": "stream",
     "text": [
      "Setting `pad_token_id` to `eos_token_id`:128001 for open-end generation.\n"
     ]
    },
    {
     "name": "stdout",
     "output_type": "stream",
     "text": [
      "  Running Few-shot...\n"
     ]
    },
    {
     "name": "stderr",
     "output_type": "stream",
     "text": [
      "Setting `pad_token_id` to `eos_token_id`:128001 for open-end generation.\n"
     ]
    },
    {
     "name": "stdout",
     "output_type": "stream",
     "text": [
      "  Running Few-shot CoT...\n"
     ]
    },
    {
     "name": "stderr",
     "output_type": "stream",
     "text": [
      "Setting `pad_token_id` to `eos_token_id`:128001 for open-end generation.\n"
     ]
    },
    {
     "name": "stdout",
     "output_type": "stream",
     "text": [
      "\n",
      "Task: If a shirt originally costs $100 and is on sale for 25% off, and then an additional 10% is taken off the discounted price, what is the final price?\n",
      "\n",
      "LLM Evaluation:\n",
      "assistant\n",
      "\n",
      "Here are the ratings for each response:\n",
      "\n",
      "**Standard Technique**\n",
      "\n",
      "* Correctness/Accuracy: 9 (The response follows a straightforward and correct mathematical process to find the final price.)\n",
      "* Clarity and coherence: 8 (The response is clear and easy to follow, but may not be explicitly stated that it's a step-by-step process.)\n",
      "* Completeness: 9 (The response includes all necessary calculations to find the final price.)\n",
      "* Relevance to the task: 10 (The response directly addresses the problem and provides a clear solution.)\n",
      "\n",
      "**Zero-shot technique**\n",
      "\n",
      "* Correctness/Accuracy: 9 (The response correctly calculates the final price using the same mathematical process as the standard technique.)\n",
      "* Clarity and coherence: 7 (The response is concise but may not provide explicit explanations or steps, making it slightly less clear than the standard technique.)\n",
      "* Completeness: 8 (The response still includes all necessary calculations to find the final price, but may not be as detailed as the standard technique.)\n",
      "* Relevance to the task: 9 (The response directly addresses the problem and provides a clear solution.)\n",
      "\n",
      "**Chain-of-Thought technique**\n",
      "\n",
      "* Correctness/Accuracy: 9 (The response follows the same mathematical process as the standard technique and provides a clear step-by-step solution.)\n",
      "* Clarity and coherence: 9 (The response provides explicit explanations and steps, making it clear and easy to follow.)\n",
      "* Completeness: 9 (The response includes all necessary calculations to find the final price.)\n",
      "* Relevance to the task: 10 (The response directly addresses the problem and provides a clear solution.)\n",
      "\n",
      "**Few-shot technique**\n",
      "\n",
      "* Correctness/Accuracy: 9 (The response correctly calculates the final price using the same mathematical process as the standard technique.)\n",
      "* Clarity and coherence: 8 (The response is concise but may not provide explicit explanations or steps, making it slightly less clear than the standard technique.)\n",
      "* Completeness: 8 (The response still includes all necessary calculations to find the final price, but may not be as detailed as the standard technique.)\n",
      "* Relevance to the task: 9 (The response directly addresses the problem and provides a clear solution.)\n",
      "\n",
      "**Few-shot CoT technique**\n",
      "\n",
      "* Correctness/Accuracy: 9 (The response follows the same mathematical process as the standard technique and provides a clear step-by-step solution.)\n",
      "* Clarity and coherence: 9 (The response provides explicit explanations and steps, making it clear and easy to follow.)\n",
      "* Completeness: 9 (The response includes all necessary calculations to find the final price.)\n",
      "* Relevance to the task: 10 (The response directly addresses the problem and provides a clear solution.)\n",
      "\n",
      "Overall, the standard technique and the Few-shot CoT technique are the most accurate and clear, with the Chain-of-Thought technique closely following. The Zero-shot technique is also accurate but may be slightly less clear. The Few-shot technique is concise but may be slightly less clear.\n",
      "\n",
      "Response Lengths:\n",
      "  task: 29 words\n",
      "  Standard: 62 words\n",
      "  Zero-shot: 93 words\n",
      "  Chain-of-Thought: 73 words\n",
      "  Few-shot: 69 words\n",
      "  Few-shot CoT: 124 words\n",
      "\n",
      "Task: A train travels at a speed of 60 miles per hour. How far will it travel in 2.5 hours?\n",
      "\n",
      "LLM Evaluation:\n",
      "assistant\n",
      "\n",
      "Here are the ratings for each response technique:\n",
      "\n",
      "**Standard technique:**\n",
      "- Correctness/Accuracy: 10/10\n",
      "- Clarity and coherence: 9/10 (clear and concise language, but lacks elaboration)\n",
      "- Completeness: 8/10 (lacks elaboration on the formula, but still provides the correct answer)\n",
      "- Relevance to the task: 10/10 (directly addresses the task)\n",
      "\n",
      "**Zero-shot technique:**\n",
      "- Correctness/Accuracy: 10/10\n",
      "- Clarity and coherence: 7/10 (lacks explanation of the formula, makes the response feel a bit abrupt)\n",
      "- Completeness: 6/10 (no explanation of the formula or steps involved)\n",
      "- Relevance to the task: 10/10 (directly addresses the task, but lacks elaboration)\n",
      "\n",
      "**Chain-of-Thought technique:**\n",
      "- Correctness/Accuracy: 10/10\n",
      "- Clarity and coherence: 9/10 (clear and step-by-step explanation)\n",
      "- Completeness: 9/10 (explains the process and formula, but might be slightly longer than necessary)\n",
      "- Relevance to the task: 10/10 (directly addresses the task and explains the reasoning)\n",
      "\n",
      "**Few-shot technique:**\n",
      "- Correctness/Accuracy: 10/10\n",
      "- Clarity and coherence: 8/10 (provides a clear explanation of the process, but lacks specific details)\n",
      "- Completeness: 8/10 (explains the process, but might not be as detailed as the Chain-of-Thought technique)\n",
      "- Relevance to the task: 10/10 (directly addresses the task)\n",
      "\n",
      "**Few-shot CoT technique:**\n",
      "- Correctness/Accuracy: 10/10\n",
      "- Clarity and coherence: 9/10 (clear and step-by-step explanation, similar to the Chain-of-Thought technique)\n",
      "- Completeness: 9/10 (explains the process and formula in detail)\n",
      "- Relevance to the task: 10/10 (directly addresses the task and explains the reasoning)\n",
      "\n",
      "Overall, the Standard technique and the Zero-shot technique both provide accurate answers, but the Chain-of-Thought technique and the Few-shot CoT technique provide more detailed explanations, which can make the responses more informative and helpful for users.\n",
      "\n",
      "Response Lengths:\n",
      "  task: 19 words\n",
      "  Standard: 45 words\n",
      "  Zero-shot: 51 words\n",
      "  Chain-of-Thought: 51 words\n",
      "  Few-shot: 41 words\n",
      "  Few-shot CoT: 107 words\n"
     ]
    }
   ],
   "source": [
    "def run_evaluation(task_category, techniques):\n",
    "    \"\"\"Run evaluation for a specific task category using multiple techniques.\n",
    "\n",
    "    Args:\n",
    "        task_category (str): Category of tasks to evaluate\n",
    "        techniques (list): List of PromptTechnique instances\n",
    "\n",
    "    Returns:\n",
    "        list: Evaluation results\n",
    "    \"\"\"\n",
    "    results = []\n",
    "\n",
    "    for task in evaluation_tasks[task_category]:\n",
    "        print(f\"\\nEvaluating task: {task[:50]}...\")\n",
    "\n",
    "        # Get responses from all techniques\n",
    "        task_responses = {\"task\": task}\n",
    "        for technique in techniques:\n",
    "            print(f\"  Running {technique.name}...\")\n",
    "            response = technique.execute(task)\n",
    "            task_responses[technique.name] = response\n",
    "\n",
    "        # Evaluate the responses\n",
    "        metrics = evaluate_responses(task_category, task_responses)\n",
    "\n",
    "        results.append({\n",
    "            \"task\": task,\n",
    "            \"responses\": task_responses,\n",
    "            \"metrics\": metrics\n",
    "        })\n",
    "\n",
    "    return results\n",
    "\n",
    "# Set up techniques for evaluation\n",
    "standard = StandardPrompt()\n",
    "zero_shot = ZeroShotPrompt()\n",
    "cot = CoTPrompt()\n",
    "category = \"math_reasoning\"\n",
    "few_shot = FewShotPrompt(few_shot_examples[category])\n",
    "few_shot_cot = FewShotCoTPrompt(few_shot_examples[category])\n",
    "\n",
    "# Evaluate a specific category\n",
    "category = \"math_reasoning\"\n",
    "techniques = [standard, zero_shot, cot, few_shot, few_shot_cot]\n",
    "evaluation_results = run_evaluation(category, techniques)\n",
    "\n",
    "# Display results\n",
    "for result in evaluation_results:\n",
    "    print(f\"\\nTask: {result['task']}\")\n",
    "    print(\"\\nLLM Evaluation:\")\n",
    "    print(result['metrics']['llm_evaluation'])\n",
    "\n",
    "    print(\"\\nResponse Lengths:\")\n",
    "    for technique, length in result['metrics']['response_length'].items():\n",
    "        print(f\"  {technique}: {length} words\")\n"
   ]
  },
  {
   "cell_type": "code",
   "execution_count": 21,
   "id": "18d7aecc",
   "metadata": {},
   "outputs": [],
   "source": [
    "import re\n",
    "\n",
    "def extract_scores_from_evaluation(evaluation_text):\n",
    "    \"\"\"\n",
    "    Extract numerical scores from LLM evaluation text.\n",
    "\n",
    "    Args:\n",
    "        evaluation_text (str): Text containing evaluations\n",
    "\n",
    "    Returns:\n",
    "        dict: Dictionary of technique to scores\n",
    "    \"\"\"\n",
    "    technique_names = [\"Standard\", \"Zero-shot\", \"Chain-of-Thought\", \"Few-shot\", \"Few-shot CoT\"]\n",
    "    criteria = [\"Correctness\", \"Clarity\", \"Completeness\", \"Relevance\"]\n",
    "    scores = {technique: {} for technique in technique_names}\n",
    "\n",
    "    for technique in technique_names:\n",
    "        pattern = fr'{technique}[^0-9]*(\\d+)(?:/10)?'\n",
    "        matches = re.findall(pattern, evaluation_text)\n",
    "\n",
    "        if matches:\n",
    "            for i, score in enumerate(matches[:len(criteria)]):\n",
    "                try:\n",
    "                    scores[technique][criteria[i]] = int(score)\n",
    "                except ValueError:\n",
    "                    scores[technique][criteria[i]] = 0\n",
    "\n",
    "    return scores\n"
   ]
  },
  {
   "cell_type": "code",
   "execution_count": 22,
   "id": "1254bb1e",
   "metadata": {},
   "outputs": [],
   "source": [
    "import matplotlib.pyplot as plt\n",
    "import numpy as np\n",
    "\n",
    "def plot_evaluation_results(evaluation_results):\n",
    "    \"\"\"\n",
    "    Plot evaluation results for visual comparison.\n",
    "\n",
    "    Args:\n",
    "        evaluation_results (list): Results from run_evaluation\n",
    "\n",
    "    Returns:\n",
    "        None\n",
    "    \"\"\"\n",
    "    all_scores = []\n",
    "    technique_names = []\n",
    "\n",
    "    for result in evaluation_results:\n",
    "        llm_eval = result['metrics']['llm_evaluation']\n",
    "        scores = extract_scores_from_evaluation(llm_eval)\n",
    "        all_scores.append(scores)\n",
    "\n",
    "        if not technique_names and scores:\n",
    "            technique_names = list(scores.keys())\n",
    "\n",
    "    # Initialize aggregation\n",
    "    criteria = [\"Correctness\", \"Clarity\", \"Completeness\", \"Relevance\"]\n",
    "    agg_scores = {\n",
    "        technique: {criterion: [] for criterion in criteria}\n",
    "        for technique in technique_names\n",
    "    }\n",
    "\n",
    "    for scores in all_scores:\n",
    "        for technique in technique_names:\n",
    "            if technique in scores:\n",
    "                for criterion, score in scores[technique].items():\n",
    "                    agg_scores[technique][criterion].append(score)\n",
    "\n",
    "    # Compute averages\n",
    "    avg_scores = {\n",
    "        technique: {\n",
    "            criterion: np.mean(scores) if scores else 0\n",
    "            for criterion, scores in criteria_scores.items()\n",
    "        }\n",
    "        for technique, criteria_scores in agg_scores.items()\n",
    "    }\n",
    "\n",
    "    # Plotting\n",
    "    fig, ax = plt.subplots(figsize=(12, 8))\n",
    "    x = np.arange(len(criteria))\n",
    "    width = 0.15\n",
    "    multiplier = 0\n",
    "\n",
    "    for technique, scores in avg_scores.items():\n",
    "        offset = width * multiplier\n",
    "        values = [scores.get(criterion, 0) for criterion in criteria]\n",
    "        ax.bar(x + offset, values, width, label=technique)\n",
    "        multiplier += 1\n",
    "\n",
    "    ax.set_xlabel('Criteria')\n",
    "    ax.set_ylabel('Average Score (1-10)')\n",
    "    ax.set_title('Comparison of Prompting Techniques')\n",
    "    ax.set_xticks(x + width * (len(avg_scores) - 1) / 2)\n",
    "    ax.set_xticklabels(criteria)\n",
    "    ax.legend(loc='best')\n",
    "    ax.set_ylim(0, 10)\n",
    "    plt.tight_layout()\n",
    "    plt.show()\n"
   ]
  },
  {
   "cell_type": "code",
   "execution_count": 23,
   "id": "cae6ec58",
   "metadata": {},
   "outputs": [
    {
     "data": {
      "image/png": "[encoded data removed]",
      "text/plain": [
       "<Figure size 1200x800 with 1 Axes>"
      ]
     },
     "metadata": {},
     "output_type": "display_data"
    }
   ],
   "source": [
    "# Suppose `evaluation_results` is a list of results with the key structure:\n",
    "# {'metrics': {'llm_evaluation': \"Standard: 8/10, Clarity: 7/10, ...\" }}\n",
    "\n",
    "plot_evaluation_results(evaluation_results)\n"
   ]
  },
  {
   "cell_type": "code",
   "execution_count": null,
   "id": "de59b16f",
   "metadata": {},
   "outputs": [],
   "source": []
  }
 ],
 "metadata": {
  "kernelspec": {
   "display_name": "env",
   "language": "python",
   "name": "python3"
  },
  "language_info": {
   "codemirror_mode": {
    "name": "ipython",
    "version": 3
   },
   "file_extension": ".py",
   "mimetype": "text/x-python",
   "name": "python",
   "nbconvert_exporter": "python",
   "pygments_lexer": "ipython3",
   "version": "3.11.0"
  }
 },
 "nbformat": 4,
 "nbformat_minor": 5
}
